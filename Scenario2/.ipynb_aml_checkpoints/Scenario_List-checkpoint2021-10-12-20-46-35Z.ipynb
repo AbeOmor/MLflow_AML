{
  "cells": [
    {
      "cell_type": "markdown",
      "source": [
        "## Scenario 1: Local to Remote with MLFlow and AML CLI "
      ],
      "metadata": {
        "nteract": {
          "transient": {
            "deleting": false
          }
        }
      }
    },
    {
      "cell_type": "markdown",
      "source": [
        "Doc: https://microsoft-my.sharepoint.com/:w:/p/osomorog/Ed7l1SLKac9Irz_PY-XnXaQB90-WeAosazcQOT24PRd3-g?e=hKS09V "
      ],
      "metadata": {
        "nteract": {
          "transient": {
            "deleting": false
          }
        }
      }
    },
    {
      "cell_type": "markdown",
      "source": [
        "1)\tUser trains locally using MLFlow using MLFlow logging / autologging\r\n",
        "\r\n",
        "2)\tMove to AML by setting the tracking URI in the backend (not in my training code), packaging as a project and using the AzureML CLIv2 or MLFlow CLI. The user doesn’t have to change their training or scoring code.\r\n",
        "\r\n",
        "    a.\tHelp users set MLFLOW_TRACKING_URI via CLI (can we get TRACKING URI from the CLI?)\r\n",
        "\r\n",
        "        i.\tUse: az ml workspace show | grep \"mlflow_tracking_uri\"\r\n",
        "\r\n",
        "    b.\tUser should be able to run this code from a local dir or GitHub (if the repo has a MLproject file)\r\n",
        "\r\n",
        "        i.\tpython train.py\r\n",
        "\r\n",
        "        ii.\tmlflow run https://github.com/mlflow/mlflow-example.git -P alpha=5.\r\n",
        "\r\n",
        "    c.\tThe user can run that same training script locally and still have everything tracked in AML without updating code\r\n",
        "\r\n",
        "3)\tAll AML parameters, metrics, models and logged artifacts should show up in AML run history\r\n",
        "\r\n",
        "**NOTE** This only works if the user has set an experiment in their code, if not it break. We need to be able to set a default experiment for the user with now experiment set."
      ],
      "metadata": {
        "nteract": {
          "transient": {
            "deleting": false
          }
        }
      }
    },
    {
      "cell_type": "code",
      "source": [
        "!cat train.py"
      ],
      "outputs": [
        {
          "output_type": "stream",
          "name": "stdout",
          "text": "# Copyright (c) Microsoft. All rights reserved.\r\n# Licensed under the MIT license.\r\n\r\nimport numpy as np\r\nfrom sklearn.datasets import load_diabetes\r\nfrom sklearn.linear_model import Ridge\r\nfrom sklearn.metrics import mean_squared_error\r\nfrom sklearn.model_selection import train_test_split\r\nimport mlflow\r\nimport mlflow.sklearn\r\n\r\nimport matplotlib\r\nmatplotlib.use('Agg')\r\nimport matplotlib.pyplot as plt\r\n\r\nmlflow.set_experiment(\"test-abe\")\r\nwith mlflow.start_run():\r\n    X, y = load_diabetes(return_X_y=True)\r\n    columns = ['age', 'gender', 'bmi', 'bp', 's1', 's2', 's3', 's4', 's5', 's6']\r\n    X_train, X_test, y_train, y_test = train_test_split(X, y, test_size=0.2, random_state=0)\r\n    data = {\r\n        \"train\": {\"X\": X_train, \"y\": y_train},\r\n        \"test\": {\"X\": X_test, \"y\": y_test}}\r\n\r\n    mlflow.log_metric(\"Training samples\", len(data['train']['X']))\r\n    mlflow.log_metric(\"Test samples\", len(data['test']['X']))\r\n\r\n    # Log the algorithm parameter alpha to the run\r\n    mlflow.log_metric('alpha', 0.03)\r\n    # Create, fit, and test the scikit-learn Ridge regression model\r\n    regression_model = Ridge(alpha=0.03)\r\n    regression_model.fit(data['train']['X'], data['train']['y'])\r\n    preds = regression_model.predict(data['test']['X'])\r\n\r\n    # Log mean squared error\r\n    print('Mean Squared Error is', mean_squared_error(data['test']['y'], preds))\r\n    mlflow.log_metric('mse', mean_squared_error(data['test']['y'], preds))\r\n\r\n    # Save the model to the outputs directory for capture\r\n    mlflow.sklearn.log_model(regression_model, \"model\")\r\n\r\n    # Plot actuals vs predictions and save the plot within the run\r\n    fig = plt.figure(1)\r\n    idx = np.argsort(data['test']['y'])\r\n    plt.plot(data['test']['y'][idx], preds[idx])\r\n    fig.savefig(\"actuals_vs_predictions.png\")\r\n    mlflow.log_artifact(\"actuals_vs_predictions.png\")"
        }
      ],
      "execution_count": 1,
      "metadata": {
        "jupyter": {
          "source_hidden": false,
          "outputs_hidden": false
        },
        "nteract": {
          "transient": {
            "deleting": false
          }
        }
      }
    },
    {
      "cell_type": "markdown",
      "source": [
        "## Run MLFlow Experiements in the Terminal\r\n",
        "Run `python train.py` in the terminal"
      ],
      "metadata": {
        "nteract": {
          "transient": {
            "deleting": false
          }
        }
      }
    },
    {
      "cell_type": "markdown",
      "source": [
        "## Get and Set Tracking URI\r\n",
        "Using following command in the Terminal.\r\n",
        "```\r\n",
        "export MLFLOW_TRACKING_URI=$(az ml workspace show --query mlflow_tracking_uri | sed 's/\"//g')\r\n",
        "```\r\n",
        "or \r\n",
        "\r\n",
        "```\r\n",
        "export MLFLOW_TRACKING_URI=$(python -c \"from azureml.core import Workspace; print(Workspace.from_config().get_mlflow_tracking_uri())\") \r\n",
        "```\r\n",
        "Double check the MLFLOW_TRACKING_URI variable was assigned:\r\n",
        "```\r\n",
        "echo $MLFLOW_TRACKING_URI\r\n",
        "```\r\n"
      ],
      "metadata": {
        "nteract": {
          "transient": {
            "deleting": false
          }
        }
      }
    },
    {
      "cell_type": "markdown",
      "source": [
        "# Run again with AzureML as Tracking Server"
      ],
      "metadata": {
        "nteract": {
          "transient": {
            "deleting": false
          }
        }
      }
    },
    {
      "cell_type": "markdown",
      "source": [
        "Run `python train.py` in the terminal"
      ],
      "metadata": {
        "nteract": {
          "transient": {
            "deleting": false
          }
        }
      }
    },
    {
      "cell_type": "markdown",
      "source": [
        "## Scenario 2: Train and deploy with MLFlow and AML\r\n",
        "\r\n",
        "1)\tTrain baseline model and log / autolog with MLFlow and submit job with AML CLI/MLFLow CLI\r\n",
        "    \r\n",
        "    a.\tNormal Jobs\r\n",
        "\r\n",
        "    b.\tAutoML Jobs\r\n",
        "\r\n",
        "    c.\tSweep Job   \r\n",
        "2)\tTest model locally with v2 CLI and manually validate results\r\n",
        "\r\n",
        "    a.\t[GAP] Retrieve model from a run\r\n",
        "\r\n",
        "        i.\taz ml job download -n <job_id>, doesn’t work for local MLFLow Experiements, because these are tracked runs and not jobs. Every Job has a run, not every run is a job.\r\n",
        "   \r\n",
        "    b.\t[GAP] Local online deployment for manual testing and NCD on v2\r\n",
        "   \r\n",
        "        i.\tNot working, need to add support for –local and MLFlow\r\n",
        "3)\t[GAP] Register the model from the run \r\n",
        "    \r\n",
        "    a.\tMLflow allows registering model in 3 different ways. Refer mlflow docs here on how to achieve it. We need to support all 3 well\r\n",
        "        i.\tmlflow.sklearn.log_model()\r\n",
        "        ii.\tmlflow.register_model(“runs://”)\r\n",
        "        iii.\tclient.create_registered_model()\r\n",
        "    b.\t[GAP] Via CLI: Use v2 CLI to register from a run \r\n",
        "    c.\t[GAP] Via UI: Right-click the model in a job [Output+Logs] and register as a model\r\n",
        "4)\tTest your deployed model, validate, and change the model stage to “Production” and discuss with team before deploying to production\r\n",
        "    \r\n",
        "    a.\tEasily validate model test inputs via AML UI, CLI or SDK (look at Databricks)\r\n",
        "        i.\tCLI: az ml online-endpoint invoke --name sklearn-deployment --request-file sample-request-sklearn.json\r\n",
        "        ii.\tUI: There is a test tab.\r\n",
        "        iii.\t[GAP] Get a sample input or signature from MLFLow/AML via CLI or UI\r\n",
        "    b.\t[GAP] Change stage, via Model stages and discussions or organization-wide feed\r\n",
        "5)\tAfter user is satisfied with the model, deploy model on AML to predict all the result from a dataset. \r\n",
        "   \r\n",
        "    a.\tVia Online or Batch endpoints and NCD \r\n",
        "        i.\tDeploy to AML using the AML CLI v2, [GAP] Get the Studio UI link to deployment from CLI output\r\n",
        "        ii.\t[GAP] Deploy using MLFLow CLI\r\n",
        "    b.\tDeploy to MIR, AML Arc [GAP], and Spark [GAP]\r\n"
      ],
      "metadata": {
        "nteract": {
          "transient": {
            "deleting": false
          }
        }
      }
    },
    {
      "cell_type": "code",
      "source": [
        "pip list"
      ],
      "outputs": [
        {
          "output_type": "stream",
          "name": "stdout",
          "text": "Package                                 Version\n--------------------------------------- -------------------\nabsl-py                                 0.13.0\nadal                                    1.2.7\nadlfs                                   2021.9.1\naiohttp                                 3.7.4.post0\nalembic                                 1.4.1\nansiwrap                                0.8.4\nantlr4-python3-runtime                  4.7.2\napplicationinsights                     0.11.10\narch                                    4.14\nargcomplete                             1.12.3\nargon2-cffi                             21.1.0\nasgiref                                 3.4.1\nastunparse                              1.6.3\nasync-timeout                           3.0.1\nattrs                                   21.2.0\nazure-appconfiguration                  1.1.1\nazure-batch                             10.0.0\nazure-cli                               2.24.0\nazure-cli-core                          2.24.0\nazure-cli-telemetry                     1.0.6\nazure-common                            1.1.27\nazure-core                              1.18.0\nazure-cosmos                            3.2.0\nazure-datalake-store                    0.0.52\nazure-functions-devops-build            0.0.22\nazure-graphrbac                         0.61.1\nazure-identity                          1.4.1\nazure-keyvault                          1.1.0\nazure-keyvault-administration           4.0.0b3\nazure-loganalytics                      0.1.0\nazure-mgmt-advisor                      2.0.1\nazure-mgmt-apimanagement                0.2.0\nazure-mgmt-appconfiguration             1.0.1\nazure-mgmt-applicationinsights          0.1.1\nazure-mgmt-authorization                0.61.0\nazure-mgmt-batch                        9.0.0\nazure-mgmt-batchai                      2.0.0\nazure-mgmt-billing                      1.0.0\nazure-mgmt-botservice                   0.3.0\nazure-mgmt-cdn                          11.0.0\nazure-mgmt-cognitiveservices            6.3.0\nazure-mgmt-compute                      20.0.0\nazure-mgmt-consumption                  2.0.0\nazure-mgmt-containerinstance            1.5.0\nazure-mgmt-containerregistry            8.1.0\nazure-mgmt-containerservice             11.2.0\nazure-mgmt-core                         1.3.0\nazure-mgmt-cosmosdb                     6.3.0\nazure-mgmt-databoxedge                  0.2.0\nazure-mgmt-datalake-analytics           0.2.1\nazure-mgmt-datalake-nspkg               3.0.1\nazure-mgmt-datalake-store               0.5.0\nazure-mgmt-datamigration                4.1.0\nazure-mgmt-deploymentmanager            0.2.0\nazure-mgmt-devtestlabs                  4.0.0\nazure-mgmt-dns                          8.0.0\nazure-mgmt-eventgrid                    3.0.0rc9\nazure-mgmt-eventhub                     4.1.0\nazure-mgmt-hdinsight                    2.2.0\nazure-mgmt-imagebuilder                 0.4.0\nazure-mgmt-iotcentral                   4.1.0\nazure-mgmt-iothub                       2.0.0\nazure-mgmt-iothubprovisioningservices   0.2.0\nazure-mgmt-keyvault                     9.1.0\nazure-mgmt-kusto                        0.3.0\nazure-mgmt-loganalytics                 8.0.0\nazure-mgmt-managedservices              1.0.0\nazure-mgmt-managementgroups             0.2.0\nazure-mgmt-maps                         0.1.0\nazure-mgmt-marketplaceordering          1.1.0\nazure-mgmt-media                        3.1.0\nazure-mgmt-monitor                      2.0.0\nazure-mgmt-msi                          0.2.0\nazure-mgmt-netapp                       2.0.0\nazure-mgmt-network                      19.0.0\nazure-mgmt-nspkg                        3.0.2\nazure-mgmt-policyinsights               0.5.0\nazure-mgmt-privatedns                   1.0.0\nazure-mgmt-rdbms                        8.1.0\nazure-mgmt-recoveryservices             0.4.0\nazure-mgmt-recoveryservicesbackup       0.11.0\nazure-mgmt-redhatopenshift              0.1.0\nazure-mgmt-redis                        7.0.0\nazure-mgmt-relay                        0.1.0\nazure-mgmt-reservations                 0.6.0\nazure-mgmt-resource                     13.0.0\nazure-mgmt-search                       8.0.0\nazure-mgmt-security                     0.6.0\nazure-mgmt-servicebus                   6.0.0\nazure-mgmt-servicefabric                0.5.0\nazure-mgmt-servicefabricmanagedclusters 1.0.0\nazure-mgmt-signalr                      0.4.0\nazure-mgmt-sql                          0.26.0\nazure-mgmt-sqlvirtualmachine            0.5.0\nazure-mgmt-storage                      11.2.0\nazure-mgmt-synapse                      0.6.0\nazure-mgmt-trafficmanager               0.51.0\nazure-mgmt-web                          2.0.0\nazure-multiapi-storage                  0.6.2\nazure-nspkg                             3.0.2\nazure-storage-blob                      12.8.1\nazure-storage-common                    1.4.2\nazure-storage-queue                     12.1.6\nazure-synapse-accesscontrol             0.5.0\nazure-synapse-artifacts                 0.6.0\nazure-synapse-spark                     0.2.0\nazureml-accel-models                    1.34.0\nazureml-automl-core                     1.34.0\nazureml-cli-common                      1.34.0\nazureml-contrib-dataset                 1.34.0\nazureml-contrib-fairness                1.34.0\nazureml-contrib-notebook                1.34.0\nazureml-contrib-pipeline-steps          1.34.0\nazureml-contrib-reinforcementlearning   1.34.0\nazureml-contrib-server                  1.34.0\nazureml-contrib-services                1.34.0\nazureml-core                            0.1.0.50509101\nazureml-datadrift                       1.34.0\nazureml-dataprep                        2.22.2\nazureml-dataprep-native                 38.0.0\nazureml-dataprep-rslex                  1.20.1\nazureml-dataset-runtime                 1.34.0\nazureml-defaults                        1.34.0\nazureml-explain-model                   1.34.0\nazureml-inference-server-http           0.3.1\nazureml-interpret                       1.34.0\nazureml-mlflow                          0.1.0.50509101\nazureml-opendatasets                    1.34.0\nazureml-pipeline                        1.34.0\nazureml-pipeline-core                   1.34.0\nazureml-pipeline-steps                  1.34.0\nazureml-sdk                             1.34.0\nazureml-telemetry                       1.34.0\nazureml-tensorboard                     1.34.0\nazureml-train                           1.34.0\nazureml-train-automl-client             1.34.0\nazureml-train-core                      1.34.0\nazureml-train-restclients-hyperdrive    1.34.0\nazureml-widgets                         1.34.0\nbackcall                                0.2.0\nbackports.tempfile                      1.0\nbackports.weakref                       1.0.post1\nbackports.zoneinfo                      0.2.1\nbcrypt                                  3.2.0\nbeautifulsoup4                          4.10.0\nbleach                                  4.1.0\nblis                                    0.4.1\nbokeh                                   2.4.0\nboto                                    2.49.0\nboto3                                   1.15.18\nbotocore                                1.18.18\nBottleneck                              1.3.2\ncached-property                         1.5.2\ncachetools                              4.2.2\ncatalogue                               1.0.0\ncertifi                                 2021.5.30\ncffi                                    1.14.6\nchardet                                 4.0.0\ncharset-normalizer                      2.0.4\nclick                                   8.0.1\ncloudpickle                             1.6.0\ncolorama                                0.4.4\nconfigparser                            3.7.4\ncontextlib2                             21.6.0\ncontextvars                             2.4\ncoremltools                             2.1.0\ncramjam                                 2.4.0\ncryptography                            3.4.8\ncycler                                  0.10.0\ncymem                                   2.0.5\nCython                                  0.29.21\ndask                                    2021.9.0\ndask-sql                                0.3.9\ndatabricks-cli                          0.15.0\ndataclasses                             0.6\ndatasets                                1.8.0\ndebugpy                                 1.4.3\ndecorator                               5.0.9\ndefusedxml                              0.7.1\ndice-ml                                 0.6.1\ndill                                    0.3.4\ndistributed                             2021.9.0\ndistro                                  1.6.0\ndocker                                  5.0.2\ndotnetcore2                             2.1.21\ndowhy                                   0.6\neconml                                  0.12.0\nencrypted-inference                     0.9\nentrypoints                             0.3\nenum34                                  1.1.10\nerroranalysis                           0.1.17\nfabric                                  2.6.0\nfairlearn                               0.7.0\nfastai                                  1.0.61\nfastapi                                 0.68.1\nfastparquet                             0.7.1\nfastprogress                            1.0.0\nfilelock                                3.0.12\nfire                                    0.4.0\nFlask                                   1.0.3\nFlask-Cors                              3.0.10\nflatbuffers                             1.12\nfsspec                                  2021.8.1\nfusepy                                  3.0.1\nfuture                                  0.18.2\ngast                                    0.3.3\ngensim                                  3.8.3\ngevent                                  21.8.0\ngitdb                                   4.0.7\nGitPython                               3.1.18\ngoogle-api-core                         1.31.2\ngoogle-auth                             1.35.0\ngoogle-auth-oauthlib                    0.4.6\ngoogle-pasta                            0.2.0\ngoogleapis-common-protos                1.53.0\ngraphviz                                0.8.4\ngreenlet                                1.1.1\ngrpcio                                  1.32.0\ngunicorn                                20.1.0\nh11                                     0.12.0\nh5py                                    2.10.0\nHeapDict                                1.0.1\nholidays                                0.9.11\nhorovod                                 0.19.1\nhuggingface-hub                         0.0.16\nhumanfriendly                           9.2\nidna                                    3.2\nimmutables                              0.16\nimportlib-metadata                      4.8.1\ninference-schema                        1.1.0\ninterpret-community                     0.19.3\ninterpret-core                          0.2.5\ninvoke                                  1.6.0\nipykernel                               6.0.3\nipython                                 7.27.0\nipython-genutils                        0.2.0\nipywidgets                              7.6.4\nisodate                                 0.6.0\nitsdangerous                            2.0.1\njavaproperties                          0.5.1\njedi                                    0.18.0\njeepney                                 0.7.1\nJinja2                                  2.11.2\njmespath                                0.10.0\njoblib                                  0.14.1\nJPype1                                  1.3.0\njsmin                                   2.2.2\njson-logging-py                         0.2\njsondiff                                1.2.0\njsonpickle                              2.0.0\njsonschema                              3.2.0\njupyter-client                          6.1.12\njupyter-core                            4.7.1\njupyterlab-widgets                      1.0.1\nKeras                                   2.3.1\nKeras-Applications                      1.0.8\nKeras-Preprocessing                     1.1.2\nkiwisolver                              1.3.1\nknack                                   0.8.2\nliac-arff                               2.5.0\nlightgbm                                2.3.0\nllvmlite                                0.36.0\nlocket                                  0.2.1\nlz4                                     3.1.3\nMako                                    1.1.5\nMarkdown                                3.3.4\nMarkupSafe                              2.0.1\nmatplotlib                              3.2.1\nmatplotlib-inline                       0.1.3\nmistune                                 0.8.4\nmkl-fft                                 1.2.0\nmkl-random                              1.1.1\nmkl-service                             2.3.0\nmlflow                                  1.20.2\nmlflow-skinny                           1.20.2\nmock                                    4.0.3\nmpmath                                  1.2.1\nmsal                                    1.14.0\nmsal-extensions                         0.2.2\nmsgpack                                 1.0.2\nmsrest                                  0.6.21\nmsrestazure                             0.6.4\nmultidict                               5.1.0\nmultiprocess                            0.70.12.2\nmurmurhash                              1.0.5\nmxnet                                   1.7.0.post1\nnbconvert                               5.6.1\nnbformat                                5.1.3\nndg-httpsclient                         0.5.1\nnest-asyncio                            1.5.1\nnetworkx                                2.5\nnotebook                                6.4.3\nnumba                                   0.53.1\nnumexpr                                 2.7.3\nnumpy                                   1.18.5\nnvidia-ml-py3                           7.352.0\noauthlib                                3.1.1\nolefile                                 0.46\nopencensus                              0.7.13\nopencensus-context                      0.1.2\nopencensus-ext-azure                    1.0.8\nopencv-python-headless                  4.5.3.56\nopt-einsum                              3.3.0\npackaging                               21.0\npandas                                  1.3.3\npandas-ml                               0.6.1\npandocfilters                           1.4.3\npapermill                               1.2.1\nparamiko                                2.7.2\nparso                                   0.8.2\npartd                                   1.2.0\npathlib2                                2.3.6\npathspec                                0.9.0\npatsy                                   0.5.1\npexpect                                 4.8.0\npickleshare                             0.7.5\nPillow                                  8.0.0\npip                                     20.1.1\npkginfo                                 1.7.1\nplac                                    1.1.3\nplotly                                  5.3.1\npmdarima                                1.1.1\nportalocker                             1.7.1\npreshed                                 3.0.5\nprometheus-client                       0.11.0\nprometheus-flask-exporter               0.18.3\nprompt-toolkit                          3.0.20\nproperty-cached                         1.6.4\nprotobuf                                3.17.3\npsutil                                  5.8.0\nptyprocess                              0.7.0\npy4j                                    0.10.9\npyarrow                                 3.0.0\npyasn1                                  0.4.8\npyasn1-modules                          0.2.8\npycocotools                             2.0.2\npycparser                               2.20\npydantic                                1.8.2\npydot                                   1.4.2\nPyGithub                                1.38\nPygments                                2.10.0\nPyJWT                                   2.1.0\nPyNaCl                                  1.4.0\npyOpenSSL                               20.0.1\npyparsing                               2.4.7\npyrsistent                              0.18.0\npyspark                                 3.1.2\npytesseract                             0.3.8\npython-dateutil                         2.8.2\npython-editor                           1.0.4\npython-snappy                           0.6.0\npytorch-transformers                    1.0.0\npytz                                    2021.1\nPyYAML                                  5.4.1\npyzmq                                   22.2.1\nquerystring-parser                      1.2.4\nrai-core-flask                          0.2.4\nraiwidgets                              0.10.0\nregex                                   2021.8.28\nrequests                                2.26.0\nrequests-oauthlib                       1.3.0\nresponsibleai                           0.10.0\nrsa                                     4.7.2\nruamel.yaml                             0.17.4\nruamel.yaml.clib                        0.2.6\ns3transfer                              0.3.7\nsacremoses                              0.0.45\nscikit-learn                            0.22.2.post1\nscipy                                   1.4.1\nscp                                     0.13.6\nseaborn                                 0.11.2\nSecretStorage                           3.3.1\nsemver                                  2.13.0\nSend2Trash                              1.8.0\nsentencepiece                           0.1.96\nseqeval                                 1.2.2\nsetuptools                              50.3.0.post20201006\nsetuptools-git                          1.2\nshap                                    0.39.0\nsix                                     1.15.0\nsklearn                                 0.0\nsklearn-pandas                          1.7.0\nslicer                                  0.0.7\nsmart-open                              1.9.0\nsmmap                                   4.0.0\nsortedcontainers                        2.4.0\nsoupsieve                               2.2.1\nspacy                                   2.3.2\nsparse                                  0.13.0\nSQLAlchemy                              1.4.25\nsqlparse                                0.4.2\nsrsly                                   1.0.5\nsshtunnel                               0.1.5\nstarlette                               0.14.2\nstatsmodels                             0.10.2\nsympy                                   1.8\ntabulate                                0.8.9\ntblib                                   1.7.0\ntenacity                                8.0.1\ntensorboard                             2.6.0\ntensorboard-data-server                 0.6.1\ntensorboard-plugin-wit                  1.8.0\ntensorflow                              2.3.0\ntensorflow-estimator                    2.3.0\ntensorflow-gpu                          2.3.0\ntermcolor                               1.1.0\nterminado                               0.12.1\ntestpath                                0.5.0\ntextwrap3                               0.9.2\nthinc                                   7.4.1\nthreadpoolctl                           2.1.0\nthrift                                  0.13.0\ntokenizers                              0.10.3\ntoolz                                   0.11.1\ntorch                                   1.9.0\ntorch-tb-profiler                       0.2.1\ntorchaudio                              0.9.0a0+33b2469\ntorchvision                             0.2.2\ntornado                                 6.1\ntqdm                                    4.62.2\ntraitlets                               5.0.5\ntransformers                            4.5.1\ntyping-extensions                       3.10.0.2\ntzlocal                                 3.0\nurllib3                                 1.25.11\nuuid                                    1.30\nuvicorn                                 0.15.0\nvsts                                    0.1.25\nvsts-cd-manager                         1.0.2\nwaitress                                2.0.0\nwasabi                                  0.8.2\nwcwidth                                 0.2.5\nwebencodings                            0.5.1\nwebsocket-client                        1.2.1\nWerkzeug                                1.0.1\nwheel                                   0.35.1\nwidgetsnbextension                      3.5.1\nwrapt                                   1.12.1\nxgboost                                 1.3.3\nxmltodict                               0.12.0\nxxhash                                  2.0.2\nyarl                                    1.6.3\nzict                                    2.0.0\nzipp                                    3.5.0\nzope.event                              4.5.0\nzope.interface                          5.4.0\nNote: you may need to restart the kernel to use updated packages.\n"
        }
      ],
      "execution_count": 4,
      "metadata": {
        "jupyter": {
          "source_hidden": false,
          "outputs_hidden": false
        },
        "nteract": {
          "transient": {
            "deleting": false
          }
        },
        "gather": {
          "logged": 1636749986197
        }
      }
    },
    {
      "cell_type": "code",
      "source": [
        "# Copyright (c) Microsoft. All rights reserved.\r\n",
        "# Licensed under the MIT license.\r\n",
        "\r\n",
        "import numpy as np\r\n",
        "from sklearn.datasets import load_diabetes\r\n",
        "from sklearn.linear_model import Ridge\r\n",
        "from sklearn.metrics import mean_squared_error\r\n",
        "from sklearn.model_selection import train_test_split\r\n",
        "import mlflow\r\n",
        "import mlflow.sklearn\r\n",
        "\r\n",
        "import matplotlib\r\n",
        "matplotlib.use('Agg')\r\n",
        "import matplotlib.pyplot as plt\r\n",
        "\r\n",
        "## User currently needs to add an experiment name. Should not be neccesary in a future relase\r\n",
        "from azureml.core import Workspace;\r\n",
        "mlflow.set_tracking_uri(Workspace.from_config().get_mlflow_tracking_uri())\r\n",
        "mlflow.set_experiment(\"test-abe\")\r\n",
        "########\r\n",
        "\r\n",
        "with mlflow.start_run():\r\n",
        "    X, y = load_diabetes(return_X_y=True)\r\n",
        "    columns = ['age', 'gender', 'bmi', 'bp', 's1', 's2', 's3', 's4', 's5', 's6']\r\n",
        "    X_train, X_test, y_train, y_test = train_test_split(X, y, test_size=0.2, random_state=0)\r\n",
        "    data = {\r\n",
        "        \"train\": {\"X\": X_train, \"y\": y_train},\r\n",
        "        \"test\": {\"X\": X_test, \"y\": y_test}}\r\n",
        "\r\n",
        "    mlflow.log_metric(\"Training samples\", len(data['train']['X']))\r\n",
        "    mlflow.log_metric(\"Test samples\", len(data['test']['X']))\r\n",
        "\r\n",
        "    # Log the algorithm parameter alpha to the run\r\n",
        "    mlflow.log_metric('alpha', 0.03)\r\n",
        "    # Create, fit, and test the scikit-learn Ridge regression model\r\n",
        "    regression_model = Ridge(alpha=0.03)\r\n",
        "    regression_model.fit(data['train']['X'], data['train']['y'])\r\n",
        "    preds = regression_model.predict(data['test']['X'])\r\n",
        "\r\n",
        "    # Log mean squared error\r\n",
        "    print('Mean Squared Error is', mean_squared_error(data['test']['y'], preds))\r\n",
        "    mlflow.log_metric('mse', mean_squared_error(data['test']['y'], preds))\r\n",
        "\r\n",
        "    # Save the model to the outputs directory for capture\r\n",
        "    mlflow.sklearn.log_model(regression_model, \"model\")\r\n",
        "\r\n",
        "    # Plot actuals vs predictions and save the plot within the run\r\n",
        "    fig = plt.figure(1)\r\n",
        "    idx = np.argsort(data['test']['y'])\r\n",
        "    plt.plot(data['test']['y'][idx], preds[idx])\r\n",
        "    fig.savefig(\"actuals_vs_predictions.png\")\r\n",
        "    mlflow.log_artifact(\"actuals_vs_predictions.png\")"
      ],
      "outputs": [
        {
          "output_type": "stream",
          "name": "stdout",
          "text": "Mean Squared Error is 3424.900315896017\n"
        }
      ],
      "execution_count": 2,
      "metadata": {
        "jupyter": {
          "source_hidden": false,
          "outputs_hidden": false
        },
        "nteract": {
          "transient": {
            "deleting": false
          }
        },
        "gather": {
          "logged": 1636749813108
        }
      }
    },
    {
      "cell_type": "markdown",
      "source": [
        "### Query last run from this experiement"
      ],
      "metadata": {
        "nteract": {
          "transient": {
            "deleting": false
          }
        }
      }
    },
    {
      "cell_type": "code",
      "source": [
        "print(mlflow.get_experiment_by_name(\"test-abe\"))"
      ],
      "outputs": [
        {
          "output_type": "stream",
          "name": "stdout",
          "text": "<Experiment: artifact_location='', experiment_id='c7c757e4-cbd5-4eda-885d-6247016ec650', lifecycle_stage='active', name='test-abe', tags={}>\n"
        }
      ],
      "execution_count": 9,
      "metadata": {
        "jupyter": {
          "source_hidden": false,
          "outputs_hidden": false
        },
        "nteract": {
          "transient": {
            "deleting": false
          }
        },
        "gather": {
          "logged": 1635880727397
        }
      }
    },
    {
      "cell_type": "code",
      "source": [
        "from mlflow.tracking.client import MlflowClient\r\n",
        "from mlflow.entities import ViewType\r\n",
        "mlflow.set_tracking_uri(Workspace.from_config().get_mlflow_tracking_uri())\r\n",
        "experiment_name=\"test-abe\"\r\n",
        "current_experiment=mlflow.get_experiment_by_name(experiment_name)\r\n",
        "runs = MlflowClient().search_runs(experiment_ids=current_experiment.experiment_id, run_view_type=ViewType.ALL)\r\n"
      ],
      "outputs": [],
      "execution_count": 21,
      "metadata": {
        "jupyter": {
          "source_hidden": false,
          "outputs_hidden": false
        },
        "nteract": {
          "transient": {
            "deleting": false
          }
        },
        "gather": {
          "logged": 1635979304409
        }
      }
    },
    {
      "cell_type": "code",
      "source": [
        "runs.tail(1)[\"run_id\"]"
      ],
      "outputs": [
        {
          "output_type": "execute_result",
          "execution_count": 19,
          "data": {
            "text/plain": "8    075f4c08-c7d1-4f9b-aff3-be64b43d9e6d\nName: run_id, dtype: object"
          },
          "metadata": {}
        }
      ],
      "execution_count": 19,
      "metadata": {
        "jupyter": {
          "source_hidden": false,
          "outputs_hidden": false
        },
        "nteract": {
          "transient": {
            "deleting": false
          }
        },
        "gather": {
          "logged": 1635979249728
        }
      }
    },
    {
      "cell_type": "markdown",
      "source": [
        "## Download or retrieve the model from the run for testing"
      ],
      "metadata": {
        "nteract": {
          "transient": {
            "deleting": false
          }
        }
      }
    },
    {
      "cell_type": "code",
      "source": [
        "from mlflow.tracking.client import MlflowClient\r\n",
        "client = MlflowClient()\r\n",
        "#client.download_artifacts(runs[-1].info.run_id,\"model\",\".\")"
      ],
      "outputs": [
        {
          "output_type": "execute_result",
          "execution_count": 51,
          "data": {
            "text/plain": "'/mnt/batch/tasks/shared/LS_root/mounts/clusters/osomorog2/code/Users/osomorog/MLFlow_Scenarios/model'"
          },
          "metadata": {}
        }
      ],
      "execution_count": 51,
      "metadata": {
        "jupyter": {
          "source_hidden": false,
          "outputs_hidden": false
        },
        "nteract": {
          "transient": {
            "deleting": false
          }
        },
        "gather": {
          "logged": 1635361505543
        }
      }
    },
    {
      "cell_type": "code",
      "source": [
        "artifact_uri = \"runs:/\" + runs[-1].info.run_id + \"/model\"\r\n",
        "model = mlflow.sklearn.load_model(\"runs:/\" + runs[-1].info.run_id + \"/model\")"
      ],
      "outputs": [],
      "execution_count": 22,
      "metadata": {
        "jupyter": {
          "source_hidden": false,
          "outputs_hidden": false
        },
        "nteract": {
          "transient": {
            "deleting": false
          }
        },
        "gather": {
          "logged": 1635979310386
        }
      }
    },
    {
      "cell_type": "code",
      "source": [
        "artifact_uri"
      ],
      "outputs": [],
      "execution_count": null,
      "metadata": {
        "jupyter": {
          "source_hidden": false,
          "outputs_hidden": false
        },
        "nteract": {
          "transient": {
            "deleting": false
          }
        }
      }
    },
    {
      "cell_type": "code",
      "source": [
        "#columns = ['age', 'gender', 'bmi', 'bp', 's1', 's2', 's3', 's4', 's5', 's6']\r\n",
        "test_data = [[ 12,  1, 12,  0.07007254, -0.03596778,-0.0266789 , -0.02499266, -0.00259226,  0.00371174,  0.04034337]]"
      ],
      "outputs": [],
      "execution_count": 66,
      "metadata": {
        "jupyter": {
          "source_hidden": false,
          "outputs_hidden": false
        },
        "nteract": {
          "transient": {
            "deleting": false
          }
        },
        "gather": {
          "logged": 1635362086336
        }
      }
    },
    {
      "cell_type": "code",
      "source": [
        "sample_dataset = test_data\r\n",
        "model.predict(sample_dataset)"
      ],
      "outputs": [
        {
          "output_type": "execute_result",
          "execution_count": 67,
          "data": {
            "text/plain": "array([6282.61850114])"
          },
          "metadata": {}
        }
      ],
      "execution_count": 67,
      "metadata": {
        "jupyter": {
          "source_hidden": false,
          "outputs_hidden": false
        },
        "nteract": {
          "transient": {
            "deleting": false
          }
        },
        "gather": {
          "logged": 1635362087681
        }
      }
    },
    {
      "cell_type": "markdown",
      "source": [
        "## Register Model with MLFLow"
      ],
      "metadata": {
        "nteract": {
          "transient": {
            "deleting": false
          }
        }
      }
    },
    {
      "cell_type": "code",
      "source": [
        "mlflow.register_model(artifact_uri,\"scenario_2_model\")"
      ],
      "outputs": [
        {
          "output_type": "stream",
          "name": "stderr",
          "text": "Successfully registered model 'scenario_2_model'.\n2021/10/27 19:17:39 INFO mlflow.tracking._model_registry.client: Waiting up to 300 seconds for model version to finish creation.                     Model name: scenario_2_model, version 1\nCreated version '1' of model 'scenario_2_model'.\n"
        },
        {
          "output_type": "execute_result",
          "execution_count": 71,
          "data": {
            "text/plain": "<ModelVersion: creation_timestamp=1635362259614, current_stage='None', description='', last_updated_timestamp=1635362259614, name='scenario_2_model', run_id='13c5faef-788f-439d-ba6c-cb8d280e708d', run_link='', source='azureml://experiments/test-abe/runs/13c5faef-788f-439d-ba6c-cb8d280e708d/artifacts/model', status='READY', status_message='', tags={}, user_id='', version='1'>"
          },
          "metadata": {}
        }
      ],
      "execution_count": 71,
      "metadata": {
        "jupyter": {
          "source_hidden": false,
          "outputs_hidden": false
        },
        "nteract": {
          "transient": {
            "deleting": false
          }
        },
        "gather": {
          "logged": 1635362260162
        }
      }
    },
    {
      "cell_type": "markdown",
      "source": [
        "4)\tDiscuss with other members and stage the model before deployment. Change the model stage to “Production” and discuss with team before deploying to production via AML CLI v2\r\n",
        "\r\n",
        "a.\tVia AML CLI, UI or SDK: [GAP] Change stage, via Model stages and discussions or organization-wide feed\r\n",
        "\r\n"
      ],
      "metadata": {
        "nteract": {
          "transient": {
            "deleting": false
          }
        }
      }
    },
    {
      "cell_type": "markdown",
      "source": [
        "### ----- USER SWITCHES TO CONTROL PLAN ACTIONS, HANDOFF FROM MLFLOW TO AML ONLY ---------"
      ],
      "metadata": {
        "nteract": {
          "transient": {
            "deleting": false
          }
        }
      }
    },
    {
      "cell_type": "code",
      "source": [
        "from mlflow.deployments import get_deploy_client\r\n",
        "import mlflow\r\n",
        "import mlflow.sklearn\r\n",
        "from azureml.core import Workspace;\r\n",
        "mlflow.set_tracking_uri(Workspace.from_config().get_mlflow_tracking_uri())\r\n",
        "# set the tracking uri as the deployment client\r\n",
        "client = get_deploy_client(mlflow.get_tracking_uri())\r\n",
        "\r\n",
        "# set the model path \r\n",
        "model_path = \"model\"\r\n",
        "run_id= \"13c5faef-788f-439d-ba6c-cb8d280e708d\"\r\n",
        "# define the model path and the name is the service name\r\n",
        "# the model gets registered automatically and a name is autogenerated using the \"name\" parameter below \r\n",
        "# set the deployment config\r\n",
        "deploy_path = \"Scenario2/deployment_config.json\"\r\n",
        "test_config = {'deploy-config-file': deploy_path}\r\n",
        "\r\n",
        "client.create_deployment(model_uri='runs:/{}/{}'.format(run_id, model_path),\r\n",
        "                         config=test_config,\r\n",
        "                         name=\"mlflow-test-mir\")"
      ],
      "outputs": [
        {
          "output_type": "stream",
          "name": "stderr",
          "text": "Registered model 'mlflow-test-mir-model' already exists. Creating a new version of this model...\n2021/10/29 00:03:39 INFO mlflow.tracking._model_registry.client: Waiting up to 300 seconds for model version to finish creation.                     Model name: mlflow-test-mir-model, version 5\nCreated version '5' of model 'mlflow-test-mir-model'.\n"
        },
        {
          "output_type": "error",
          "ename": "MlflowException",
          "evalue": "Failed to parse provided deployment config file",
          "traceback": [
            "\u001b[0;31m---------------------------------------------------------------------------\u001b[0m",
            "\u001b[0;31mWebserviceException\u001b[0m                       Traceback (most recent call last)",
            "\u001b[0;32m/anaconda/envs/azureml_py36/lib/python3.6/site-packages/azureml/_model_management/_util.py\u001b[0m in \u001b[0;36mdeploy_config_dict_to_obj\u001b[0;34m(deploy_config_dict, tags_dict, properties_dict, description)\u001b[0m\n\u001b[1;32m   1307\u001b[0m         \u001b[0;32mif\u001b[0m \u001b[0mCOMPUTE_TYPE_KEY\u001b[0m \u001b[0;32mnot\u001b[0m \u001b[0;32min\u001b[0m \u001b[0mdeploy_config_dict\u001b[0m\u001b[0;34m:\u001b[0m\u001b[0;34m\u001b[0m\u001b[0;34m\u001b[0m\u001b[0m\n\u001b[0;32m-> 1308\u001b[0;31m             \u001b[0;32mraise\u001b[0m \u001b[0mWebserviceException\u001b[0m\u001b[0;34m(\u001b[0m\u001b[0;34m\"Need to specify {} in --deploy-config-file\"\u001b[0m\u001b[0;34m.\u001b[0m\u001b[0mformat\u001b[0m\u001b[0;34m(\u001b[0m\u001b[0mCOMPUTE_TYPE_KEY\u001b[0m\u001b[0;34m)\u001b[0m\u001b[0;34m)\u001b[0m\u001b[0;34m\u001b[0m\u001b[0;34m\u001b[0m\u001b[0m\n\u001b[0m\u001b[1;32m   1309\u001b[0m \u001b[0;34m\u001b[0m\u001b[0m\n",
            "\u001b[0;31mWebserviceException\u001b[0m: WebserviceException:\n\tMessage: Need to specify computeType in --deploy-config-file\n\tInnerException None\n\tErrorResponse \n{\n    \"error\": {\n        \"message\": \"Need to specify computeType in --deploy-config-file\"\n    }\n}",
            "\nThe above exception was the direct cause of the following exception:\n",
            "\u001b[0;31mWebserviceException\u001b[0m                       Traceback (most recent call last)",
            "\u001b[0;32m/anaconda/envs/azureml_py36/lib/python3.6/site-packages/azureml/mlflow/deploy/deployment_client.py\u001b[0m in \u001b[0;36mcreate_deployment\u001b[0;34m(self, name, model_uri, flavor, config)\u001b[0m\n\u001b[1;32m     75\u001b[0m         \u001b[0;32mif\u001b[0m \u001b[0mconfig\u001b[0m \u001b[0;32mand\u001b[0m \u001b[0;34m'deploy-config-file'\u001b[0m \u001b[0;32min\u001b[0m \u001b[0mconfig\u001b[0m\u001b[0;34m:\u001b[0m\u001b[0;34m\u001b[0m\u001b[0;34m\u001b[0m\u001b[0m\n\u001b[0;32m---> 76\u001b[0;31m             \u001b[0;32mwith\u001b[0m \u001b[0mopen\u001b[0m\u001b[0;34m(\u001b[0m\u001b[0mconfig\u001b[0m\u001b[0;34m[\u001b[0m\u001b[0;34m'deploy-config-file'\u001b[0m\u001b[0;34m]\u001b[0m\u001b[0;34m,\u001b[0m \u001b[0;34m'r'\u001b[0m\u001b[0;34m)\u001b[0m \u001b[0;32mas\u001b[0m \u001b[0mdeploy_file_stream\u001b[0m\u001b[0;34m:\u001b[0m\u001b[0;34m\u001b[0m\u001b[0;34m\u001b[0m\u001b[0m\n\u001b[0m\u001b[1;32m     77\u001b[0m                 \u001b[0mdeploy_config_obj\u001b[0m \u001b[0;34m=\u001b[0m \u001b[0mfile_stream_to_object\u001b[0m\u001b[0;34m(\u001b[0m\u001b[0mdeploy_file_stream\u001b[0m\u001b[0;34m)\u001b[0m\u001b[0;34m\u001b[0m\u001b[0;34m\u001b[0m\u001b[0m\n",
            "\u001b[0;32m/anaconda/envs/azureml_py36/lib/python3.6/site-packages/azureml/_model_management/_util.py\u001b[0m in \u001b[0;36mdeploy_config_dict_to_obj\u001b[0;34m(deploy_config_dict, tags_dict, properties_dict, description)\u001b[0m\n\u001b[1;32m   1408\u001b[0m         \u001b[0;32melse\u001b[0m\u001b[0;34m:\u001b[0m\u001b[0;34m\u001b[0m\u001b[0;34m\u001b[0m\u001b[0m\n\u001b[0;32m-> 1409\u001b[0;31m             \u001b[0;32mraise\u001b[0m \u001b[0mWebserviceException\u001b[0m\u001b[0;34m(\u001b[0m\u001b[0;34m\"unknown deployment type: {}\"\u001b[0m\u001b[0;34m.\u001b[0m\u001b[0mformat\u001b[0m\u001b[0;34m(\u001b[0m\u001b[0mdeploy_compute_type\u001b[0m\u001b[0;34m)\u001b[0m\u001b[0;34m)\u001b[0m\u001b[0;34m\u001b[0m\u001b[0;34m\u001b[0m\u001b[0m\n\u001b[0m\u001b[1;32m   1410\u001b[0m         \u001b[0;32mreturn\u001b[0m \u001b[0mconfig\u001b[0m\u001b[0;34m\u001b[0m\u001b[0;34m\u001b[0m\u001b[0m\n",
            "\u001b[0;31mWebserviceException\u001b[0m: WebserviceException:\n\tMessage: Error parsing --deploy-config-file.\n\tInnerException None\n\tErrorResponse \n{\n    \"error\": {\n        \"message\": \"Error parsing --deploy-config-file.\"\n    }\n}",
            "\nThe above exception was the direct cause of the following exception:\n",
            "\u001b[0;31mMlflowException\u001b[0m                           Traceback (most recent call last)",
            "\u001b[0;32m<ipython-input-6-7e7454596f38>\u001b[0m in \u001b[0;36m<module>\u001b[0;34m\u001b[0m\n\u001b[1;32m     18\u001b[0m client.create_deployment(model_uri='runs:/{}/{}'.format(run_id, model_path),\n\u001b[1;32m     19\u001b[0m                          \u001b[0mconfig\u001b[0m\u001b[0;34m=\u001b[0m\u001b[0mtest_config\u001b[0m\u001b[0;34m,\u001b[0m\u001b[0;34m\u001b[0m\u001b[0;34m\u001b[0m\u001b[0m\n\u001b[0;32m---> 20\u001b[0;31m                          name=\"mlflow-test-mir\")\n\u001b[0m",
            "\u001b[0;32m/anaconda/envs/azureml_py36/lib/python3.6/site-packages/azureml/mlflow/deploy/deployment_client.py\u001b[0m in \u001b[0;36mcreate_deployment\u001b[0;34m(self, name, model_uri, flavor, config)\u001b[0m\n\u001b[1;32m     76\u001b[0m             \u001b[0;32mwith\u001b[0m \u001b[0mopen\u001b[0m\u001b[0;34m(\u001b[0m\u001b[0mconfig\u001b[0m\u001b[0;34m[\u001b[0m\u001b[0;34m'deploy-config-file'\u001b[0m\u001b[0;34m]\u001b[0m\u001b[0;34m,\u001b[0m \u001b[0;34m'r'\u001b[0m\u001b[0;34m)\u001b[0m \u001b[0;32mas\u001b[0m \u001b[0mdeploy_file_stream\u001b[0m\u001b[0;34m:\u001b[0m\u001b[0;34m\u001b[0m\u001b[0;34m\u001b[0m\u001b[0m\n\u001b[1;32m     77\u001b[0m                 \u001b[0mdeploy_config_obj\u001b[0m \u001b[0;34m=\u001b[0m \u001b[0mfile_stream_to_object\u001b[0m\u001b[0;34m(\u001b[0m\u001b[0mdeploy_file_stream\u001b[0m\u001b[0;34m)\u001b[0m\u001b[0;34m\u001b[0m\u001b[0;34m\u001b[0m\u001b[0m\n\u001b[0;32m---> 78\u001b[0;31m                 \u001b[0;32mtry\u001b[0m\u001b[0;34m:\u001b[0m\u001b[0;34m\u001b[0m\u001b[0;34m\u001b[0m\u001b[0m\n\u001b[0m\u001b[1;32m     79\u001b[0m                     \u001b[0;32mif\u001b[0m \u001b[0;34m'computeType'\u001b[0m \u001b[0;32min\u001b[0m \u001b[0mdeploy_config_obj\u001b[0m\u001b[0;34m:\u001b[0m\u001b[0;34m\u001b[0m\u001b[0;34m\u001b[0m\u001b[0m\n\u001b[1;32m     80\u001b[0m                         v1_deploy_config = deploy_config_dict_to_obj(deploy_config_obj, deploy_config_obj.get('tags'),\n",
            "\u001b[0;31mMlflowException\u001b[0m: Failed to parse provided deployment config file"
          ]
        }
      ],
      "execution_count": 6,
      "metadata": {
        "jupyter": {
          "source_hidden": false,
          "outputs_hidden": false
        },
        "nteract": {
          "transient": {
            "deleting": false
          }
        }
      }
    },
    {
      "cell_type": "markdown",
      "source": [
        "`az ml online-endpoint invoke --name sklearn-deployment --request-file sample-request-sklearn.json`"
      ],
      "metadata": {
        "nteract": {
          "transient": {
            "deleting": false
          }
        }
      }
    },
    {
      "cell_type": "markdown",
      "source": [
        "# Scenario 2b: Collaboration and Compare - AML Run Analysis and Model comparison\r\n",
        "Search runs with alpha > 0\r\n",
        "\r\n",
        "1.\tUser A has access to User B’s training metrics and want to compare it their training results. OR User A has done a sweep job and wants to find the best model\r\n",
        "2.\tAnalyze runs (metrics, parameters, etc) interactively \r\n",
        "3.\tUse mlflow.search_runs() and other commands to load into Pandas dataframe and do common analysis (mlflow.search_runs())\r\n",
        "\r\n",
        "    a.\tcompare job A to job B\r\n",
        "\r\n",
        "    b.\tfind best model in sweep based on primary metric\r\n",
        "\r\n",
        "    c.\tfind best model in sweep based on some other logged metric etc\r\n",
        "\r\n",
        "\r\n"
      ],
      "metadata": {
        "nteract": {
          "transient": {
            "deleting": false
          }
        }
      }
    },
    {
      "cell_type": "markdown",
      "source": [
        "### Compare Runs"
      ],
      "metadata": {
        "nteract": {
          "transient": {
            "deleting": false
          }
        }
      }
    },
    {
      "cell_type": "code",
      "source": [
        "from azureml.core import Workspace;\r\n",
        "from mlflow.tracking.client import MlflowClient\r\n",
        "from mlflow.entities import ViewType\r\n",
        "\r\n",
        "mlflow.set_tracking_uri(Workspace.from_config().get_mlflow_tracking_uri())\r\n",
        "\r\n",
        "all_experiments = [exp.experiment_id for exp in MlflowClient().list_experiments()]\r\n",
        "query = \"metrics.alpha > 0\"\r\n",
        "runs = MlflowClient().search_runs(experiment_ids=[\"c3732977-6d76-4192-bccf-38cac682b7b7\", \"c24a63cd-22b3-482c-818a-e532d96362f6\"], filter_string=query, run_view_type=ViewType.ALL)\r\n",
        "\r\n",
        "# print(runs)\r\n",
        "runs.head(10)"
      ],
      "outputs": [],
      "execution_count": 73,
      "metadata": {
        "jupyter": {
          "source_hidden": false,
          "outputs_hidden": false
        },
        "nteract": {
          "transient": {
            "deleting": false
          }
        },
        "gather": {
          "logged": 1635358855538
        }
      }
    },
    {
      "cell_type": "code",
      "source": [],
      "outputs": [],
      "execution_count": null,
      "metadata": {
        "jupyter": {
          "source_hidden": false,
          "outputs_hidden": false
        },
        "nteract": {
          "transient": {
            "deleting": false
          }
        }
      }
    },
    {
      "cell_type": "markdown",
      "source": [
        "### List Models"
      ],
      "metadata": {
        "nteract": {
          "transient": {
            "deleting": false
          }
        }
      }
    },
    {
      "cell_type": "code",
      "source": [
        "from pprint import pprint\r\n",
        "\r\n",
        "client = MlflowClient()\r\n",
        "for rm in client.list_registered_models():\r\n",
        "    pprint(dict(rm), indent=4)"
      ],
      "outputs": [
        {
          "output_type": "stream",
          "name": "stdout",
          "text": "{   'creation_timestamp': 1633124474397,\n    'description': '',\n    'last_updated_timestamp': 1633124474397,\n    'latest_versions': [   <ModelVersion: creation_timestamp=1633124474429, current_stage='None', description='', last_updated_timestamp=1633124474429, name='my-model', run_id='experiment_with_mlflow_remote_1633124216_c95519e1', run_link='', source='', status='READY', status_message='', tags={}, user_id='', version='1'>],\n    'name': 'my-model',\n    'tags': {}}\n{   'creation_timestamp': 1633728453446,\n    'description': '',\n    'last_updated_timestamp': 1633728453446,\n    'latest_versions': [   <ModelVersion: creation_timestamp=1633728453472, current_stage='None', description='', last_updated_timestamp=1633728453472, name='4d525968-a1af-4503-968b-061a46855da5', run_id='', run_link='', source='', status='READY', status_message='', tags={}, user_id='', version='1'>],\n    'name': '4d525968-a1af-4503-968b-061a46855da5',\n    'tags': {}}\n{   'creation_timestamp': 1635204959134,\n    'description': '',\n    'last_updated_timestamp': 1635204959134,\n    'latest_versions': [   <ModelVersion: creation_timestamp=1635211354414, current_stage='None', description='', last_updated_timestamp=1635211354414, name='ElasticnetWineModel', run_id='TestExperiment_1635211325_48126dfa', run_link='', source='azureml://experiments/TestExperiment/runs/TestExperiment_1635211325_48126dfa/artifacts/model', status='READY', status_message='', tags={}, user_id='', version='6'>],\n    'name': 'ElasticnetWineModel',\n    'tags': {}}\n{   'creation_timestamp': 1635268265875,\n    'description': '',\n    'last_updated_timestamp': 1635268265875,\n    'latest_versions': [   <ModelVersion: creation_timestamp=1635268265897, current_stage='None', description='Ridge regression model to predict diabetes progression.', last_updated_timestamp=1635268265897, name='my-sklearn-model', run_id='', run_link='', source='', status='READY', status_message='', tags={'area': 'diabetes', 'type': 'regression'}, user_id='', version='1'>],\n    'name': 'my-sklearn-model',\n    'tags': {}}\n{   'creation_timestamp': 1635271341446,\n    'description': '',\n    'last_updated_timestamp': 1635271341446,\n    'latest_versions': [   <ModelVersion: creation_timestamp=1635271342421, current_stage='None', description='', last_updated_timestamp=1635271342421, name='sk-learn-random-forest-reg-model', run_id='d6f28473-4ad4-48cb-a47d-019d72d90ea9', run_link='', source='azureml://experiments/model-reg/runs/d6f28473-4ad4-48cb-a47d-019d72d90ea9/artifacts/sklearn-model', status='READY', status_message='', tags={}, user_id='', version='1'>],\n    'name': 'sk-learn-random-forest-reg-model',\n    'tags': {}}\n{   'creation_timestamp': 1635272057101,\n    'description': '',\n    'last_updated_timestamp': 1635272057101,\n    'latest_versions': [],\n    'name': 'sk-learn-random-forest-reg-model12',\n    'tags': {}}\n{   'creation_timestamp': 1635272191506,\n    'description': '',\n    'last_updated_timestamp': 1635272191506,\n    'latest_versions': [],\n    'name': 'sk-learn-random-forest-reg-model123',\n    'tags': {}}\n{   'creation_timestamp': 1635272617130,\n    'description': '',\n    'last_updated_timestamp': 1635272617130,\n    'latest_versions': [   <ModelVersion: creation_timestamp=1635272618079, current_stage='None', description='', last_updated_timestamp=1635272618079, name='sk-learn-random-forest-reg12', run_id='d6f28473-4ad4-48cb-a47d-019d72d90ea9', run_link='', source='azureml://experiments/model-reg/runs/d6f28473-4ad4-48cb-a47d-019d72d90ea9/artifacts/sklearn-model', status='READY', status_message='', tags={}, user_id='', version='1'>],\n    'name': 'sk-learn-random-forest-reg12',\n    'tags': {}}\n{   'creation_timestamp': 1635281685085,\n    'description': '',\n    'last_updated_timestamp': 1635281685085,\n    'latest_versions': [   <ModelVersion: creation_timestamp=1635282933886, current_stage='None', description='', last_updated_timestamp=1635282933886, name='blah', run_id='test-abe_1635281055_3ea2e9d3', run_link='', source='azureml://experiments/test-abe/runs/test-abe_1635281055_3ea2e9d3/artifacts/model', status='READY', status_message='', tags={}, user_id='', version='2'>],\n    'name': 'blah',\n    'tags': {}}\n{   'creation_timestamp': 1635284250419,\n    'description': '',\n    'last_updated_timestamp': 1635284250419,\n    'latest_versions': [   <ModelVersion: creation_timestamp=1635284250442, current_stage='None', description='', last_updated_timestamp=1635284250442, name='sample-mlflow-sklearn-model', run_id='', run_link='', source='', status='READY', status_message='', tags={}, user_id='', version='1'>],\n    'name': 'sample-mlflow-sklearn-model',\n    'tags': {}}\n{   'creation_timestamp': 1635291140660,\n    'description': '',\n    'last_updated_timestamp': 1635291140660,\n    'latest_versions': [   <ModelVersion: creation_timestamp=1635291140685, current_stage='None', description='', last_updated_timestamp=1635293559295, name='mlflow-sklearn-model', run_id='', run_link='', source='', status='READY', status_message='', tags={}, user_id='', version='1'>],\n    'name': 'mlflow-sklearn-model',\n    'tags': {}}\n"
        }
      ],
      "execution_count": 20,
      "metadata": {
        "jupyter": {
          "source_hidden": false,
          "outputs_hidden": false
        },
        "nteract": {
          "transient": {
            "deleting": false
          }
        },
        "gather": {
          "logged": 1635359306379
        }
      }
    },
    {
      "cell_type": "markdown",
      "source": [
        "## Query artifacts from a run (including Models)"
      ],
      "metadata": {
        "nteract": {
          "transient": {
            "deleting": false
          }
        }
      }
    },
    {
      "cell_type": "code",
      "source": [
        "model = mlflow.sklearn.load_model(\"runs:/experiment_with_mlflow_remote_1633124216_c95519e1/model\")"
      ],
      "outputs": [
        {
          "output_type": "stream",
          "name": "stderr",
          "text": "/anaconda/envs/azureml_py36/lib/python3.6/site-packages/sklearn/base.py:318: UserWarning: Trying to unpickle estimator Ridge from version 0.24.2 when using version 0.22.2.post1. This might lead to breaking code or invalid results. Use at your own risk.\n  UserWarning)\n"
        }
      ],
      "execution_count": 21,
      "metadata": {
        "jupyter": {
          "source_hidden": false,
          "outputs_hidden": false
        },
        "nteract": {
          "transient": {
            "deleting": false
          }
        },
        "gather": {
          "logged": 1635359528555
        }
      }
    },
    {
      "cell_type": "code",
      "source": [
        "client = MlflowClient()\r\n",
        "\r\n",
        "def print_artifact_info(artifact):\r\n",
        "    print(\"artifact: {}\".format(artifact.path))\r\n",
        "    print(\"is_dir: {}\".format(artifact.is_dir))\r\n",
        "    print(\"size: {}\".format(artifact.file_size))\r\n",
        "\r\n",
        "#run\r\n",
        "# Fetch the logged artifacts\r\n",
        "artifacts = client.list_artifacts(\"experiment_with_mlflow_remote_1633124216_c95519e1\")\r\n",
        "for artifact in artifacts:\r\n",
        "    #print_artifact_info(artifact)\r\n",
        "    print(artifact)\r\n",
        "\r\n",
        "client.download_artifacts(\"experiment_with_mlflow_remote_1633124216_c95519e1\",\"model\",\".\")"
      ],
      "outputs": [
        {
          "output_type": "stream",
          "name": "stdout",
          "text": "<FileInfo: file_size=-1, is_dir=False, path='actuals_vs_predictions.png'>\n<FileInfo: file_size=-1, is_dir=True, path='azureml-logs'>\n<FileInfo: file_size=-1, is_dir=True, path='azureml-logs'>\n<FileInfo: file_size=-1, is_dir=True, path='azureml-logs'>\n<FileInfo: file_size=-1, is_dir=True, path='azureml-logs'>\n<FileInfo: file_size=-1, is_dir=True, path='azureml-logs'>\n<FileInfo: file_size=-1, is_dir=True, path='azureml-logs'>\n<FileInfo: file_size=-1, is_dir=True, path='logs'>\n<FileInfo: file_size=-1, is_dir=True, path='logs'>\n<FileInfo: file_size=-1, is_dir=True, path='logs'>\n<FileInfo: file_size=-1, is_dir=True, path='model'>\n<FileInfo: file_size=-1, is_dir=True, path='model'>\n<FileInfo: file_size=-1, is_dir=True, path='model'>\n<FileInfo: file_size=-1, is_dir=True, path='model'>\n"
        },
        {
          "output_type": "execute_result",
          "execution_count": 35,
          "data": {
            "text/plain": "'/mnt/batch/tasks/shared/LS_root/mounts/clusters/osomorog2/code/Users/osomorog/MLFlow_Scenarios/model'"
          },
          "metadata": {}
        }
      ],
      "execution_count": 35,
      "metadata": {
        "jupyter": {
          "source_hidden": false,
          "outputs_hidden": false
        },
        "nteract": {
          "transient": {
            "deleting": false
          }
        },
        "gather": {
          "logged": 1635360354332
        }
      }
    }
  ],
  "metadata": {
    "kernelspec": {
      "name": "python38-azureml",
      "language": "python",
      "display_name": "Python 3.8 - AzureML"
    },
    "language_info": {
      "name": "python",
      "version": "3.8.1",
      "mimetype": "text/x-python",
      "codemirror_mode": {
        "name": "ipython",
        "version": 3
      },
      "pygments_lexer": "ipython3",
      "nbconvert_exporter": "python",
      "file_extension": ".py"
    },
    "kernel_info": {
      "name": "python38-azureml"
    },
    "nteract": {
      "version": "nteract-front-end@1.0.0"
    },
    "microsoft": {
      "host": {
        "AzureML": {
          "notebookHasBeenCompleted": true
        }
      }
    }
  },
  "nbformat": 4,
  "nbformat_minor": 0
}