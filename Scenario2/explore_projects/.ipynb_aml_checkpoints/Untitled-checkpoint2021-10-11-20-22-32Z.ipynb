{
  "cells": [
    {
      "cell_type": "code",
      "source": [
        "import mlflow\r\n",
        "project_uri = \".\"\r\n",
        "#params = {\"data_file\": \"wine-quality.csv\"}\r\n",
        "\r\n",
        "    # Run MLflow project and create a reproducible conda environment\r\n",
        "    # on a local host\r\n",
        "mlflow.run(project_uri)"
      ],
      "outputs": [
        {
          "output_type": "stream",
          "name": "stderr",
          "text": "2021/11/04 23:59:11 INFO mlflow.projects.utils: === Created directory /tmp/tmpevvhd54x for downloading remote URIs passed to arguments of type 'path' ===\n2021/11/04 23:59:11 INFO mlflow.projects.backend.local: === Running command 'source activate mlflow-ff56d6062d031d43990effc19450800e72b9830b 1>&2 && python train.py /mnt/batch/tasks/shared/LS_root/mounts/clusters/osomorog2/code/Users/osomorog/MLFlow_Scenarios/sklearn_elasticnet_wine-copy/wine-quality.csv' in run with ID '56f02e991a6b4698a110b4a8d5c517a7' === \n"
        },
        {
          "output_type": "error",
          "ename": "ExecutionException",
          "evalue": "Run (ID '56f02e991a6b4698a110b4a8d5c517a7') failed",
          "traceback": [
            "\u001b[0;31m---------------------------------------------------------------------------\u001b[0m",
            "\u001b[0;31mExecutionException\u001b[0m                        Traceback (most recent call last)",
            "\u001b[0;32m<ipython-input-3-e0fbca22bc72>\u001b[0m in \u001b[0;36m<module>\u001b[0;34m\u001b[0m\n\u001b[1;32m      5\u001b[0m     \u001b[0;31m# Run MLflow project and create a reproducible conda environment\u001b[0m\u001b[0;34m\u001b[0m\u001b[0;34m\u001b[0m\u001b[0;34m\u001b[0m\u001b[0m\n\u001b[1;32m      6\u001b[0m     \u001b[0;31m# on a local host\u001b[0m\u001b[0;34m\u001b[0m\u001b[0;34m\u001b[0m\u001b[0;34m\u001b[0m\u001b[0m\n\u001b[0;32m----> 7\u001b[0;31m \u001b[0mmlflow\u001b[0m\u001b[0;34m.\u001b[0m\u001b[0mrun\u001b[0m\u001b[0;34m(\u001b[0m\u001b[0mproject_uri\u001b[0m\u001b[0;34m,\u001b[0m \u001b[0mparameters\u001b[0m\u001b[0;34m=\u001b[0m\u001b[0mparams\u001b[0m\u001b[0;34m)\u001b[0m\u001b[0;34m\u001b[0m\u001b[0;34m\u001b[0m\u001b[0m\n\u001b[0m",
            "\u001b[0;32m/anaconda/envs/azureml_py36/lib/python3.6/site-packages/mlflow/projects/__init__.py\u001b[0m in \u001b[0;36mrun\u001b[0;34m(uri, entry_point, version, parameters, docker_args, experiment_name, experiment_id, backend, backend_config, use_conda, storage_dir, synchronous, run_id)\u001b[0m\n\u001b[1;32m    305\u001b[0m     )\n\u001b[1;32m    306\u001b[0m     \u001b[0;32mif\u001b[0m \u001b[0msynchronous\u001b[0m\u001b[0;34m:\u001b[0m\u001b[0;34m\u001b[0m\u001b[0;34m\u001b[0m\u001b[0m\n\u001b[0;32m--> 307\u001b[0;31m         \u001b[0m_wait_for\u001b[0m\u001b[0;34m(\u001b[0m\u001b[0msubmitted_run_obj\u001b[0m\u001b[0;34m)\u001b[0m\u001b[0;34m\u001b[0m\u001b[0;34m\u001b[0m\u001b[0m\n\u001b[0m\u001b[1;32m    308\u001b[0m     \u001b[0;32mreturn\u001b[0m \u001b[0msubmitted_run_obj\u001b[0m\u001b[0;34m\u001b[0m\u001b[0;34m\u001b[0m\u001b[0m\n\u001b[1;32m    309\u001b[0m \u001b[0;34m\u001b[0m\u001b[0m\n",
            "\u001b[0;32m/anaconda/envs/azureml_py36/lib/python3.6/site-packages/mlflow/projects/__init__.py\u001b[0m in \u001b[0;36m_wait_for\u001b[0;34m(submitted_run_obj)\u001b[0m\n\u001b[1;32m    322\u001b[0m         \u001b[0;32melse\u001b[0m\u001b[0;34m:\u001b[0m\u001b[0;34m\u001b[0m\u001b[0;34m\u001b[0m\u001b[0m\n\u001b[1;32m    323\u001b[0m             \u001b[0m_maybe_set_run_terminated\u001b[0m\u001b[0;34m(\u001b[0m\u001b[0mactive_run\u001b[0m\u001b[0;34m,\u001b[0m \u001b[0;34m\"FAILED\"\u001b[0m\u001b[0;34m)\u001b[0m\u001b[0;34m\u001b[0m\u001b[0;34m\u001b[0m\u001b[0m\n\u001b[0;32m--> 324\u001b[0;31m             \u001b[0;32mraise\u001b[0m \u001b[0mExecutionException\u001b[0m\u001b[0;34m(\u001b[0m\u001b[0;34m\"Run (ID '%s') failed\"\u001b[0m \u001b[0;34m%\u001b[0m \u001b[0mrun_id\u001b[0m\u001b[0;34m)\u001b[0m\u001b[0;34m\u001b[0m\u001b[0;34m\u001b[0m\u001b[0m\n\u001b[0m\u001b[1;32m    325\u001b[0m     \u001b[0;32mexcept\u001b[0m \u001b[0mKeyboardInterrupt\u001b[0m\u001b[0;34m:\u001b[0m\u001b[0;34m\u001b[0m\u001b[0;34m\u001b[0m\u001b[0m\n\u001b[1;32m    326\u001b[0m         \u001b[0m_logger\u001b[0m\u001b[0;34m.\u001b[0m\u001b[0merror\u001b[0m\u001b[0;34m(\u001b[0m\u001b[0;34m\"=== Run (ID '%s') interrupted, cancelling run ===\"\u001b[0m\u001b[0;34m,\u001b[0m \u001b[0mrun_id\u001b[0m\u001b[0;34m)\u001b[0m\u001b[0;34m\u001b[0m\u001b[0;34m\u001b[0m\u001b[0m\n",
            "\u001b[0;31mExecutionException\u001b[0m: Run (ID '56f02e991a6b4698a110b4a8d5c517a7') failed"
          ]
        }
      ],
      "execution_count": 3,
      "metadata": {}
    }
  ],
  "metadata": {
    "kernelspec": {
      "name": "python3-azureml",
      "language": "python",
      "display_name": "Python 3.6 - AzureML"
    },
    "language_info": {
      "name": "python",
      "version": "3.6.9",
      "mimetype": "text/x-python",
      "codemirror_mode": {
        "name": "ipython",
        "version": 3
      },
      "pygments_lexer": "ipython3",
      "nbconvert_exporter": "python",
      "file_extension": ".py"
    },
    "kernel_info": {
      "name": "python3-azureml"
    },
    "nteract": {
      "version": "nteract-front-end@1.0.0"
    }
  },
  "nbformat": 4,
  "nbformat_minor": 0
}