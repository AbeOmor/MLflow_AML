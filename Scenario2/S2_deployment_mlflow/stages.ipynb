{
  "cells": [
    {
      "cell_type": "code",
      "source": [
        "import mlflow\r\n",
        "from azureml.core import Workspace\r\n",
        "from mlflow.tracking import MlflowClient"
      ],
      "outputs": [],
      "execution_count": 3,
      "metadata": {
        "jupyter": {
          "source_hidden": false,
          "outputs_hidden": false
        },
        "nteract": {
          "transient": {
            "deleting": false
          }
        },
        "gather": {
          "logged": 1638493462445
        }
      }
    },
    {
      "cell_type": "code",
      "source": [
        "mlflow.set_tracking_uri(Workspace.from_config().get_mlflow_tracking_uri())"
      ],
      "outputs": [],
      "execution_count": 4,
      "metadata": {
        "jupyter": {
          "source_hidden": false,
          "outputs_hidden": false
        },
        "nteract": {
          "transient": {
            "deleting": false
          }
        },
        "gather": {
          "logged": 1638493464907
        }
      }
    },
    {
      "cell_type": "code",
      "source": [
        "client = MlflowClient()\r\n",
        "client.transition_model_version_stage(\r\n",
        "    name=\"aci-test-model\",\r\n",
        "    version=1,\r\n",
        "    stage=\"Production\"\r\n",
        ")"
      ],
      "outputs": [
        {
          "output_type": "execute_result",
          "execution_count": 5,
          "data": {
            "text/plain": "<ModelVersion: creation_timestamp=1638487711414, current_stage='Production', description='', last_updated_timestamp=1638493468059, name='aci-test-model', run_id='mlflow-column-model_1638482010_00a87385', run_link='', source='azureml://experiments/mlflow-column-model/runs/mlflow-column-model_1638482010_00a87385/artifacts/model', status='READY', status_message='', tags={}, user_id='', version='1'>"
          },
          "metadata": {}
        }
      ],
      "execution_count": 5,
      "metadata": {
        "gather": {
          "logged": 1638493468483
        }
      }
    },
    {
      "cell_type": "code",
      "source": [
        "client.transition_model_version_stage(\r\n",
        "    name=\"aci-test-model\",\r\n",
        "    version=1,\r\n",
        "    stage=\"Archived\"\r\n",
        ")"
      ],
      "outputs": [
        {
          "output_type": "execute_result",
          "execution_count": 7,
          "data": {
            "text/plain": "<ModelVersion: creation_timestamp=1638487711414, current_stage='Archived', description='', last_updated_timestamp=1638493688899, name='aci-test-model', run_id='mlflow-column-model_1638482010_00a87385', run_link='', source='azureml://experiments/mlflow-column-model/runs/mlflow-column-model_1638482010_00a87385/artifacts/model', status='READY', status_message='', tags={}, user_id='', version='1'>"
          },
          "metadata": {}
        }
      ],
      "execution_count": 7,
      "metadata": {
        "jupyter": {
          "source_hidden": false,
          "outputs_hidden": false
        },
        "nteract": {
          "transient": {
            "deleting": false
          }
        },
        "gather": {
          "logged": 1638493689239
        }
      }
    },
    {
      "cell_type": "code",
      "source": [
        "from pprint import pprint\r\n",
        "client = MlflowClient()\r\n",
        "for mv in client.search_model_versions(\"name='aci-test-model'\"):\r\n",
        "    pprint(dict(mv), indent=4)"
      ],
      "outputs": [
        {
          "output_type": "stream",
          "name": "stdout",
          "text": "{   'creation_timestamp': 1638487711414,\n    'current_stage': 'Archived',\n    'description': '',\n    'last_updated_timestamp': 1638493688899,\n    'name': 'aci-test-model',\n    'run_id': 'mlflow-column-model_1638482010_00a87385',\n    'run_link': '',\n    'source': 'azureml://experiments/mlflow-column-model/runs/mlflow-column-model_1638482010_00a87385/artifacts/model',\n    'status': 'READY',\n    'status_message': '',\n    'tags': {},\n    'user_id': '',\n    'version': '1'}\n"
        }
      ],
      "execution_count": 9,
      "metadata": {
        "jupyter": {
          "source_hidden": false,
          "outputs_hidden": false
        },
        "nteract": {
          "transient": {
            "deleting": false
          }
        },
        "gather": {
          "logged": 1638493764854
        }
      }
    }
  ],
  "metadata": {
    "kernelspec": {
      "name": "python3-azureml",
      "language": "python",
      "display_name": "Python 3.6 - AzureML"
    },
    "language_info": {
      "name": "python",
      "version": "3.6.9",
      "mimetype": "text/x-python",
      "codemirror_mode": {
        "name": "ipython",
        "version": 3
      },
      "pygments_lexer": "ipython3",
      "nbconvert_exporter": "python",
      "file_extension": ".py"
    },
    "kernel_info": {
      "name": "python3-azureml"
    },
    "microsoft": {
      "host": {
        "AzureML": {
          "notebookHasBeenCompleted": true
        }
      }
    },
    "nteract": {
      "version": "nteract-front-end@1.0.0"
    }
  },
  "nbformat": 4,
  "nbformat_minor": 0
}