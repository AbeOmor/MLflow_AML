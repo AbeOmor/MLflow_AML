{
  "cells": [
    {
      "cell_type": "markdown",
      "source": [
        "## Scenario 2: Train and deploy with MLFlow and AML\r\n",
        "\r\n",
        "1)\tTrain baseline model and log / autolog with MLFlow and submit job with AML CLI/MLFLow CLI\r\n",
        "    \r\n",
        "    a.\tNormal Jobs\r\n",
        "\r\n",
        "    b.\tAutoML Jobs\r\n",
        "\r\n",
        "    c.\tSweep Job   \r\n",
        "2)\tTest model locally with v2 CLI and manually validate results\r\n",
        "\r\n",
        "    a.\t[GAP] Retrieve model from a run\r\n",
        "\r\n",
        "        i.\taz ml job download -n <job_id>, doesn’t work for local MLFLow Experiements, because these are tracked runs and not jobs. Every Job has a run, not every run is a job.\r\n",
        "   \r\n",
        "    b.\t[GAP] Local online deployment for manual testing and NCD on v2\r\n",
        "   \r\n",
        "        i.\tNot working, need to add support for –local and MLFlow\r\n",
        "3)\t[GAP] Register the model from the run \r\n",
        "    \r\n",
        "    a.\tMLflow allows registering model in 3 different ways. Refer mlflow docs here on how to achieve it. We need to support all 3 well\r\n",
        "        i.\tmlflow.sklearn.log_model()\r\n",
        "        ii.\tmlflow.register_model(“runs://”)\r\n",
        "        iii.\tclient.create_registered_model()\r\n",
        "    b.\t[GAP] Via CLI: Use v2 CLI to register from a run \r\n",
        "    c.\t[GAP] Via UI: Right-click the model in a job [Output+Logs] and register as a model\r\n",
        "4)\tTest your deployed model, validate, and change the model stage to “Production” and discuss with team before deploying to production\r\n",
        "    \r\n",
        "    a.\tEasily validate model test inputs via AML UI, CLI or SDK\r\n",
        "        i.\tCLI: az ml online-endpoint invoke --name sklearn-deployment --request-file sample-request-sklearn.json\r\n",
        "        ii.\tUI: There is a test tab.\r\n",
        "        iii.\t[GAP] Get a sample input or signature from MLFLow/AML via CLI or UI\r\n",
        "    b.\t[GAP] Change stage, via Model stages and discussions or organization-wide feed\r\n",
        "5)\tAfter user is satisfied with the model, deploy model on AML to predict all the result from a dataset. \r\n",
        "   \r\n",
        "    a.\tVia Online or Batch endpoints and NCD \r\n",
        "        i.\tDeploy to AML using the AML CLI v2, [GAP] Get the Studio UI link to deployment from CLI output\r\n",
        "        ii.\t[GAP] Deploy using MLFLow CLI\r\n",
        "    b.\tDeploy to MIR, AML Arc [GAP], and Spark [GAP]\r\n"
      ],
      "metadata": {
        "nteract": {
          "transient": {
            "deleting": false
          }
        }
      }
    },
    {
      "cell_type": "markdown",
      "source": [
        "Doc: https://microsoft-my.sharepoint.com/:w:/p/osomorog/Ed7l1SLKac9Irz_PY-XnXaQB90-WeAosazcQOT24PRd3-g?e=hKS09V "
      ],
      "metadata": {
        "nteract": {
          "transient": {
            "deleting": false
          }
        }
      }
    },
    {
      "cell_type": "markdown",
      "source": [
        "## Train baseline model and log / autolog with MLFlow and submit job with MLFLow CLI"
      ],
      "metadata": {
        "nteract": {
          "transient": {
            "deleting": false
          }
        }
      }
    },
    {
      "cell_type": "code",
      "source": [
        "backend_config = {\"USE_CONDA\": False}"
      ],
      "outputs": [],
      "execution_count": null,
      "metadata": {
        "jupyter": {
          "source_hidden": false,
          "outputs_hidden": false
        },
        "nteract": {
          "transient": {
            "deleting": false
          }
        }
      }
    },
    {
      "cell_type": "code",
      "source": [
        "import mlflow\r\n",
        "local_env_run = mlflow.projects.run(uri=\"simple_project\", \r\n",
        "                                    parameters={\"alpha\":0.3},\r\n",
        "                                    backend = \"azureml\",\r\n",
        "                                    use_conda=False,\r\n",
        "                                    backend_config = backend_config, \r\n",
        "                                    )"
      ],
      "outputs": [],
      "execution_count": null,
      "metadata": {
        "jupyter": {
          "source_hidden": false,
          "outputs_hidden": false
        },
        "nteract": {
          "transient": {
            "deleting": false
          }
        }
      }
    },
    {
      "cell_type": "markdown",
      "source": [
        "### Query last run from this experiement"
      ],
      "metadata": {
        "nteract": {
          "transient": {
            "deleting": false
          }
        }
      }
    },
    {
      "cell_type": "code",
      "source": [
        "print(mlflow.get_experiment_by_name(\"test-abe\"))"
      ],
      "outputs": [],
      "execution_count": null,
      "metadata": {
        "jupyter": {
          "source_hidden": false,
          "outputs_hidden": false
        },
        "nteract": {
          "transient": {
            "deleting": false
          }
        },
        "gather": {
          "logged": 1635880727397
        }
      }
    },
    {
      "cell_type": "code",
      "source": [
        "from mlflow.tracking.client import MlflowClient\r\n",
        "from mlflow.entities import ViewType\r\n",
        "mlflow.set_tracking_uri(Workspace.from_config().get_mlflow_tracking_uri())\r\n",
        "experiment_name=\"test-abe\"\r\n",
        "current_experiment=mlflow.get_experiment_by_name(experiment_name)\r\n",
        "runs = MlflowClient().search_runs(experiment_ids=current_experiment.experiment_id, run_view_type=ViewType.ALL)\r\n"
      ],
      "outputs": [],
      "execution_count": null,
      "metadata": {
        "jupyter": {
          "source_hidden": false,
          "outputs_hidden": false
        },
        "nteract": {
          "transient": {
            "deleting": false
          }
        },
        "gather": {
          "logged": 1635979304409
        }
      }
    },
    {
      "cell_type": "code",
      "source": [
        "runs.tail(1)[\"run_id\"]"
      ],
      "outputs": [],
      "execution_count": null,
      "metadata": {
        "jupyter": {
          "source_hidden": false,
          "outputs_hidden": false
        },
        "nteract": {
          "transient": {
            "deleting": false
          }
        },
        "gather": {
          "logged": 1635979249728
        }
      }
    },
    {
      "cell_type": "markdown",
      "source": [
        "## Download or retrieve the model from the run for testing"
      ],
      "metadata": {
        "nteract": {
          "transient": {
            "deleting": false
          }
        }
      }
    },
    {
      "cell_type": "code",
      "source": [
        "from mlflow.tracking.client import MlflowClient\r\n",
        "client = MlflowClient()\r\n",
        "#client.download_artifacts(runs[-1].info.run_id,\"model\",\".\")"
      ],
      "outputs": [],
      "execution_count": null,
      "metadata": {
        "jupyter": {
          "source_hidden": false,
          "outputs_hidden": false
        },
        "nteract": {
          "transient": {
            "deleting": false
          }
        },
        "gather": {
          "logged": 1635361505543
        }
      }
    },
    {
      "cell_type": "code",
      "source": [
        "artifact_uri = \"runs:/\" + runs[-1].info.run_id + \"/model\"\r\n",
        "model = mlflow.sklearn.load_model(\"runs:/\" + runs[-1].info.run_id + \"/model\")"
      ],
      "outputs": [],
      "execution_count": null,
      "metadata": {
        "jupyter": {
          "source_hidden": false,
          "outputs_hidden": false
        },
        "nteract": {
          "transient": {
            "deleting": false
          }
        },
        "gather": {
          "logged": 1635979310386
        }
      }
    },
    {
      "cell_type": "code",
      "source": [
        "artifact_uri"
      ],
      "outputs": [],
      "execution_count": null,
      "metadata": {
        "jupyter": {
          "source_hidden": false,
          "outputs_hidden": false
        },
        "nteract": {
          "transient": {
            "deleting": false
          }
        }
      }
    },
    {
      "cell_type": "code",
      "source": [
        "#columns = ['age', 'gender', 'bmi', 'bp', 's1', 's2', 's3', 's4', 's5', 's6']\r\n",
        "test_data = [[ 12,  1, 12,  0.07007254, -0.03596778,-0.0266789 , -0.02499266, -0.00259226,  0.00371174,  0.04034337]]"
      ],
      "outputs": [],
      "execution_count": null,
      "metadata": {
        "jupyter": {
          "source_hidden": false,
          "outputs_hidden": false
        },
        "nteract": {
          "transient": {
            "deleting": false
          }
        },
        "gather": {
          "logged": 1635362086336
        }
      }
    },
    {
      "cell_type": "code",
      "source": [
        "sample_dataset = test_data\r\n",
        "model.predict(sample_dataset)"
      ],
      "outputs": [],
      "execution_count": null,
      "metadata": {
        "jupyter": {
          "source_hidden": false,
          "outputs_hidden": false
        },
        "nteract": {
          "transient": {
            "deleting": false
          }
        },
        "gather": {
          "logged": 1635362087681
        }
      }
    },
    {
      "cell_type": "markdown",
      "source": [
        "## Register Model with MLFLow"
      ],
      "metadata": {
        "nteract": {
          "transient": {
            "deleting": false
          }
        }
      }
    },
    {
      "cell_type": "code",
      "source": [
        "mlflow.register_model(artifact_uri,\"scenario_2_model\")"
      ],
      "outputs": [],
      "execution_count": null,
      "metadata": {
        "jupyter": {
          "source_hidden": false,
          "outputs_hidden": false
        },
        "nteract": {
          "transient": {
            "deleting": false
          }
        },
        "gather": {
          "logged": 1635362260162
        }
      }
    },
    {
      "cell_type": "markdown",
      "source": [
        "4)\tDiscuss with other members and stage the model before deployment. Change the model stage to “Production” and discuss with team before deploying to production via AML CLI v2\r\n",
        "\r\n",
        "a.\tVia AML CLI, UI or SDK: [GAP] Change stage, via Model stages and discussions or organization-wide feed\r\n",
        "\r\n"
      ],
      "metadata": {
        "nteract": {
          "transient": {
            "deleting": false
          }
        }
      }
    },
    {
      "cell_type": "markdown",
      "source": [
        "### ----- USER SWITCHES TO CONTROL PLAN ACTIONS, HANDOFF FROM MLFLOW TO AML ONLY ---------"
      ],
      "metadata": {
        "nteract": {
          "transient": {
            "deleting": false
          }
        }
      }
    },
    {
      "cell_type": "code",
      "source": [
        "from mlflow.deployments import get_deploy_client\r\n",
        "import mlflow\r\n",
        "import mlflow.sklearn\r\n",
        "from azureml.core import Workspace;\r\n",
        "mlflow.set_tracking_uri(Workspace.from_config().get_mlflow_tracking_uri())\r\n",
        "# set the tracking uri as the deployment client\r\n",
        "client = get_deploy_client(mlflow.get_tracking_uri())\r\n",
        "\r\n",
        "# set the model path \r\n",
        "model_path = \"model\"\r\n",
        "run_id= \"13c5faef-788f-439d-ba6c-cb8d280e708d\"\r\n",
        "# define the model path and the name is the service name\r\n",
        "# the model gets registered automatically and a name is autogenerated using the \"name\" parameter below \r\n",
        "# set the deployment config\r\n",
        "deploy_path = \"Scenario2/deployment_config.json\"\r\n",
        "test_config = {'deploy-config-file': deploy_path}\r\n",
        "\r\n",
        "client.create_deployment(model_uri='runs:/{}/{}'.format(run_id, model_path),\r\n",
        "                         config=test_config,\r\n",
        "                         name=\"mlflow-test-mir\")"
      ],
      "outputs": [],
      "execution_count": null,
      "metadata": {
        "jupyter": {
          "source_hidden": false,
          "outputs_hidden": false
        },
        "nteract": {
          "transient": {
            "deleting": false
          }
        }
      }
    },
    {
      "cell_type": "markdown",
      "source": [
        "`az ml online-endpoint invoke --name sklearn-deployment --request-file sample-request-sklearn.json`"
      ],
      "metadata": {
        "nteract": {
          "transient": {
            "deleting": false
          }
        }
      }
    },
    {
      "cell_type": "markdown",
      "source": [
        "# Scenario 2b: Collaboration and Compare - AML Run Analysis and Model comparison\r\n",
        "Search runs with alpha > 0\r\n",
        "\r\n",
        "1.\tUser A has access to User B’s training metrics and want to compare it their training results. OR User A has done a sweep job and wants to find the best model\r\n",
        "2.\tAnalyze runs (metrics, parameters, etc) interactively \r\n",
        "3.\tUse mlflow.search_runs() and other commands to load into Pandas dataframe and do common analysis (mlflow.search_runs())\r\n",
        "\r\n",
        "    a.\tcompare job A to job B\r\n",
        "\r\n",
        "    b.\tfind best model in sweep based on primary metric\r\n",
        "\r\n",
        "    c.\tfind best model in sweep based on some other logged metric etc\r\n",
        "\r\n",
        "\r\n"
      ],
      "metadata": {
        "nteract": {
          "transient": {
            "deleting": false
          }
        }
      }
    },
    {
      "cell_type": "markdown",
      "source": [
        "### Compare Runs"
      ],
      "metadata": {
        "nteract": {
          "transient": {
            "deleting": false
          }
        }
      }
    },
    {
      "cell_type": "code",
      "source": [
        "from azureml.core import Workspace;\r\n",
        "from mlflow.tracking.client import MlflowClient\r\n",
        "from mlflow.entities import ViewType\r\n",
        "\r\n",
        "mlflow.set_tracking_uri(Workspace.from_config().get_mlflow_tracking_uri())\r\n",
        "\r\n",
        "all_experiments = [exp.experiment_id for exp in MlflowClient().list_experiments()]\r\n",
        "query = \"metrics.alpha > 0\"\r\n",
        "runs = MlflowClient().search_runs(experiment_ids=[\"c3732977-6d76-4192-bccf-38cac682b7b7\", \"c24a63cd-22b3-482c-818a-e532d96362f6\"], filter_string=query, run_view_type=ViewType.ALL)\r\n",
        "\r\n",
        "# print(runs)\r\n",
        "runs.head(10)"
      ],
      "outputs": [],
      "execution_count": null,
      "metadata": {
        "jupyter": {
          "source_hidden": false,
          "outputs_hidden": false
        },
        "nteract": {
          "transient": {
            "deleting": false
          }
        },
        "gather": {
          "logged": 1635358855538
        }
      }
    },
    {
      "cell_type": "code",
      "source": [],
      "outputs": [],
      "execution_count": null,
      "metadata": {
        "jupyter": {
          "source_hidden": false,
          "outputs_hidden": false
        },
        "nteract": {
          "transient": {
            "deleting": false
          }
        }
      }
    },
    {
      "cell_type": "markdown",
      "source": [
        "### List Models"
      ],
      "metadata": {
        "nteract": {
          "transient": {
            "deleting": false
          }
        }
      }
    },
    {
      "cell_type": "code",
      "source": [
        "from pprint import pprint\r\n",
        "\r\n",
        "client = MlflowClient()\r\n",
        "for rm in client.list_registered_models():\r\n",
        "    pprint(dict(rm), indent=4)"
      ],
      "outputs": [],
      "execution_count": null,
      "metadata": {
        "jupyter": {
          "source_hidden": false,
          "outputs_hidden": false
        },
        "nteract": {
          "transient": {
            "deleting": false
          }
        },
        "gather": {
          "logged": 1635359306379
        }
      }
    },
    {
      "cell_type": "markdown",
      "source": [
        "## Query artifacts from a run (including Models)"
      ],
      "metadata": {
        "nteract": {
          "transient": {
            "deleting": false
          }
        }
      }
    },
    {
      "cell_type": "code",
      "source": [
        "model = mlflow.sklearn.load_model(\"runs:/experiment_with_mlflow_remote_1633124216_c95519e1/model\")"
      ],
      "outputs": [],
      "execution_count": null,
      "metadata": {
        "jupyter": {
          "source_hidden": false,
          "outputs_hidden": false
        },
        "nteract": {
          "transient": {
            "deleting": false
          }
        },
        "gather": {
          "logged": 1635359528555
        }
      }
    },
    {
      "cell_type": "code",
      "source": [
        "client = MlflowClient()\r\n",
        "\r\n",
        "def print_artifact_info(artifact):\r\n",
        "    print(\"artifact: {}\".format(artifact.path))\r\n",
        "    print(\"is_dir: {}\".format(artifact.is_dir))\r\n",
        "    print(\"size: {}\".format(artifact.file_size))\r\n",
        "\r\n",
        "#run\r\n",
        "# Fetch the logged artifacts\r\n",
        "artifacts = client.list_artifacts(\"experiment_with_mlflow_remote_1633124216_c95519e1\")\r\n",
        "for artifact in artifacts:\r\n",
        "    #print_artifact_info(artifact)\r\n",
        "    print(artifact)\r\n",
        "\r\n",
        "client.download_artifacts(\"experiment_with_mlflow_remote_1633124216_c95519e1\",\"model\",\".\")"
      ],
      "outputs": [],
      "execution_count": null,
      "metadata": {
        "jupyter": {
          "source_hidden": false,
          "outputs_hidden": false
        },
        "nteract": {
          "transient": {
            "deleting": false
          }
        },
        "gather": {
          "logged": 1635360354332
        }
      }
    }
  ],
  "metadata": {
    "kernelspec": {
      "name": "python38-azureml",
      "language": "python",
      "display_name": "Python 3.8 - AzureML"
    },
    "language_info": {
      "name": "python",
      "version": "3.8.1",
      "mimetype": "text/x-python",
      "codemirror_mode": {
        "name": "ipython",
        "version": 3
      },
      "pygments_lexer": "ipython3",
      "nbconvert_exporter": "python",
      "file_extension": ".py"
    },
    "kernel_info": {
      "name": "python38-azureml"
    },
    "nteract": {
      "version": "nteract-front-end@1.0.0"
    },
    "microsoft": {
      "host": {
        "AzureML": {
          "notebookHasBeenCompleted": true
        }
      }
    }
  },
  "nbformat": 4,
  "nbformat_minor": 0
}