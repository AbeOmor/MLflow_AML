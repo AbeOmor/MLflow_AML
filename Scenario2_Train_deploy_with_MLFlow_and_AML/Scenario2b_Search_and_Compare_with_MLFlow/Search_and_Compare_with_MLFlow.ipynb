{
  "cells": [
    {
      "cell_type": "markdown",
      "source": [
        "# Scenario 2b: Collaboration and Compare - AML Run Analysis and Model comparison\r\n",
        "Search runs with alpha > 0\r\n",
        "\r\n",
        "1.\tUser A has access to User B’s training metrics and want to compare it their training results. OR User A has done a sweep job and wants to find the best model\r\n",
        "2.\tAnalyze runs (metrics, parameters, etc) interactively \r\n",
        "3.\tUse mlflow.search_runs() and other commands to load into Pandas dataframe and do common analysis (mlflow.search_runs())\r\n",
        "\r\n",
        "    a.\tcompare job A to job B\r\n",
        "\r\n",
        "    b.\tfind best model in sweep based on primary metric\r\n",
        "\r\n",
        "    c.\tfind best model in sweep based on some other logged metric etc\r\n",
        "\r\n",
        "Using [MLFlow Search API](https://mlflow.org/docs/latest/search-syntax.html#search) for the seardch queries below"
      ],
      "metadata": {
        "nteract": {
          "transient": {
            "deleting": false
          }
        }
      }
    },
    {
      "cell_type": "markdown",
      "source": [
        "### Compare Runs"
      ],
      "metadata": {
        "nteract": {
          "transient": {
            "deleting": false
          }
        }
      }
    },
    {
      "cell_type": "code",
      "source": [
        "import mlflow\r\n",
        "from azureml.core import Workspace;\r\n",
        "from mlflow.tracking.client import MlflowClient\r\n",
        "from mlflow.entities import ViewType\r\n",
        "\r\n",
        "mlflow.set_tracking_uri(Workspace.from_config().get_mlflow_tracking_uri())\r\n",
        "\r\n",
        "all_experiments = [exp.experiment_id for exp in MlflowClient().list_experiments()]\r\n",
        "query = \"metrics.alpha > 0\"\r\n",
        "runs = mlflow.search_runs(experiment_ids=[\"c3732977-6d76-4192-bccf-38cac682b7b7\", \"c24a63cd-22b3-482c-818a-e532d96362f6\"], filter_string=query, run_view_type=ViewType.ALL)\r\n",
        "\r\n",
        "# print(runs)\r\n",
        "runs.head(10)"
      ],
      "outputs": [
        {
          "output_type": "execute_result",
          "execution_count": 3,
          "data": {
            "text/plain": "                                              run_id  \\\n0               783aebf9-16af-4aa3-b8d1-269624c2ac3f   \n1               c2a8fa26-d5f4-4c60-b8fd-4465f2919ab0   \n2  experiment_with_mlflow_remote_1633124216_c95519e1   \n3               396f7638-09b8-41ef-a520-0bd2be5814a6   \n4               22930b3d-62f7-4ffb-aabb-f689058733ba   \n\n                          experiment_id    status artifact_uri  \\\n0  c3732977-6d76-4192-bccf-38cac682b7b7  FINISHED                \n1  c3732977-6d76-4192-bccf-38cac682b7b7  FINISHED                \n2  c24a63cd-22b3-482c-818a-e532d96362f6  FINISHED                \n3  c3732977-6d76-4192-bccf-38cac682b7b7  FINISHED                \n4  c3732977-6d76-4192-bccf-38cac682b7b7  FINISHED                \n\n                        start_time                         end_time  \\\n0 2021-10-01 18:45:06.462000+00:00 2021-10-01 18:45:07.199000+00:00   \n1 2021-10-01 19:02:47.519000+00:00 2021-10-01 19:02:48.108000+00:00   \n2 2021-10-01 21:38:34.242000+00:00 2021-10-01 21:40:25.009000+00:00   \n3 2021-11-03 00:54:28.231000+00:00 2021-11-03 00:54:29.228000+00:00   \n4 2021-11-16 00:13:06.239000+00:00 2021-11-16 00:13:07.243000+00:00   \n\n   metrics.alpha  metrics.Test samples  metrics.Training samples  metrics.mse  \\\n0           0.03                   NaN                       NaN          NaN   \n1           0.03                   NaN                       NaN          NaN   \n2           0.03                  89.0                     353.0  3424.900316   \n3           0.03                   NaN                       NaN          NaN   \n4           0.03                   NaN                       NaN          NaN   \n\n                             tags.mlflow.source.name tags.mlflow.user  \\\n0  /anaconda/envs/azureml_py36/lib/python3.6/site...        azureuser   \n1  /anaconda/envs/azureml_py36/lib/python3.6/site...        azureuser   \n2                                           train.py             None   \n3  /anaconda/envs/azureml_py36/lib/python3.6/site...        azureuser   \n4  /anaconda/envs/azureml_py36/lib/python3.6/site...        azureuser   \n\n  tags.mlflow.source.type                              tags.mlflow.rootRunId  \n0                   LOCAL               783aebf9-16af-4aa3-b8d1-269624c2ac3f  \n1                   LOCAL               c2a8fa26-d5f4-4c60-b8fd-4465f2919ab0  \n2                     JOB  experiment_with_mlflow_remote_1633124216_c95519e1  \n3                   LOCAL               396f7638-09b8-41ef-a520-0bd2be5814a6  \n4                   LOCAL               22930b3d-62f7-4ffb-aabb-f689058733ba  ",
            "text/html": "<div>\n<style scoped>\n    .dataframe tbody tr th:only-of-type {\n        vertical-align: middle;\n    }\n\n    .dataframe tbody tr th {\n        vertical-align: top;\n    }\n\n    .dataframe thead th {\n        text-align: right;\n    }\n</style>\n<table border=\"1\" class=\"dataframe\">\n  <thead>\n    <tr style=\"text-align: right;\">\n      <th></th>\n      <th>run_id</th>\n      <th>experiment_id</th>\n      <th>status</th>\n      <th>artifact_uri</th>\n      <th>start_time</th>\n      <th>end_time</th>\n      <th>metrics.alpha</th>\n      <th>metrics.Test samples</th>\n      <th>metrics.Training samples</th>\n      <th>metrics.mse</th>\n      <th>tags.mlflow.source.name</th>\n      <th>tags.mlflow.user</th>\n      <th>tags.mlflow.source.type</th>\n      <th>tags.mlflow.rootRunId</th>\n    </tr>\n  </thead>\n  <tbody>\n    <tr>\n      <th>0</th>\n      <td>783aebf9-16af-4aa3-b8d1-269624c2ac3f</td>\n      <td>c3732977-6d76-4192-bccf-38cac682b7b7</td>\n      <td>FINISHED</td>\n      <td></td>\n      <td>2021-10-01 18:45:06.462000+00:00</td>\n      <td>2021-10-01 18:45:07.199000+00:00</td>\n      <td>0.03</td>\n      <td>NaN</td>\n      <td>NaN</td>\n      <td>NaN</td>\n      <td>/anaconda/envs/azureml_py36/lib/python3.6/site...</td>\n      <td>azureuser</td>\n      <td>LOCAL</td>\n      <td>783aebf9-16af-4aa3-b8d1-269624c2ac3f</td>\n    </tr>\n    <tr>\n      <th>1</th>\n      <td>c2a8fa26-d5f4-4c60-b8fd-4465f2919ab0</td>\n      <td>c3732977-6d76-4192-bccf-38cac682b7b7</td>\n      <td>FINISHED</td>\n      <td></td>\n      <td>2021-10-01 19:02:47.519000+00:00</td>\n      <td>2021-10-01 19:02:48.108000+00:00</td>\n      <td>0.03</td>\n      <td>NaN</td>\n      <td>NaN</td>\n      <td>NaN</td>\n      <td>/anaconda/envs/azureml_py36/lib/python3.6/site...</td>\n      <td>azureuser</td>\n      <td>LOCAL</td>\n      <td>c2a8fa26-d5f4-4c60-b8fd-4465f2919ab0</td>\n    </tr>\n    <tr>\n      <th>2</th>\n      <td>experiment_with_mlflow_remote_1633124216_c95519e1</td>\n      <td>c24a63cd-22b3-482c-818a-e532d96362f6</td>\n      <td>FINISHED</td>\n      <td></td>\n      <td>2021-10-01 21:38:34.242000+00:00</td>\n      <td>2021-10-01 21:40:25.009000+00:00</td>\n      <td>0.03</td>\n      <td>89.0</td>\n      <td>353.0</td>\n      <td>3424.900316</td>\n      <td>train.py</td>\n      <td>None</td>\n      <td>JOB</td>\n      <td>experiment_with_mlflow_remote_1633124216_c95519e1</td>\n    </tr>\n    <tr>\n      <th>3</th>\n      <td>396f7638-09b8-41ef-a520-0bd2be5814a6</td>\n      <td>c3732977-6d76-4192-bccf-38cac682b7b7</td>\n      <td>FINISHED</td>\n      <td></td>\n      <td>2021-11-03 00:54:28.231000+00:00</td>\n      <td>2021-11-03 00:54:29.228000+00:00</td>\n      <td>0.03</td>\n      <td>NaN</td>\n      <td>NaN</td>\n      <td>NaN</td>\n      <td>/anaconda/envs/azureml_py36/lib/python3.6/site...</td>\n      <td>azureuser</td>\n      <td>LOCAL</td>\n      <td>396f7638-09b8-41ef-a520-0bd2be5814a6</td>\n    </tr>\n    <tr>\n      <th>4</th>\n      <td>22930b3d-62f7-4ffb-aabb-f689058733ba</td>\n      <td>c3732977-6d76-4192-bccf-38cac682b7b7</td>\n      <td>FINISHED</td>\n      <td></td>\n      <td>2021-11-16 00:13:06.239000+00:00</td>\n      <td>2021-11-16 00:13:07.243000+00:00</td>\n      <td>0.03</td>\n      <td>NaN</td>\n      <td>NaN</td>\n      <td>NaN</td>\n      <td>/anaconda/envs/azureml_py36/lib/python3.6/site...</td>\n      <td>azureuser</td>\n      <td>LOCAL</td>\n      <td>22930b3d-62f7-4ffb-aabb-f689058733ba</td>\n    </tr>\n  </tbody>\n</table>\n</div>"
          },
          "metadata": {}
        }
      ],
      "execution_count": 3,
      "metadata": {
        "jupyter": {
          "source_hidden": false,
          "outputs_hidden": false
        },
        "nteract": {
          "transient": {
            "deleting": false
          }
        },
        "gather": {
          "logged": 1641329352083
        }
      }
    },
    {
      "cell_type": "markdown",
      "source": [
        "### List Models"
      ],
      "metadata": {
        "nteract": {
          "transient": {
            "deleting": false
          }
        }
      }
    },
    {
      "cell_type": "code",
      "source": [
        "from pprint import pprint\r\n",
        "\r\n",
        "client = MlflowClient()\r\n",
        "for rm in client.list_registered_models():\r\n",
        "    pprint(dict(rm), indent=4)"
      ],
      "outputs": [
        {
          "output_type": "stream",
          "name": "stdout",
          "text": "{   'creation_timestamp': 1633124474397,\n    'description': '',\n    'last_updated_timestamp': 1633124474397,\n    'latest_versions': [   <ModelVersion: creation_timestamp=1633124474429, current_stage='None', description='', last_updated_timestamp=1633124474429, name='my-model', run_id='experiment_with_mlflow_remote_1633124216_c95519e1', run_link='', source='', status='READY', status_message='', tags={}, user_id='', version='1'>],\n    'name': 'my-model',\n    'tags': {}}\n{   'creation_timestamp': 1633728453446,\n    'description': '',\n    'last_updated_timestamp': 1633728453446,\n    'latest_versions': [   <ModelVersion: creation_timestamp=1633728453472, current_stage='None', description='', last_updated_timestamp=1633728453472, name='4d525968-a1af-4503-968b-061a46855da5', run_id='', run_link='', source='', status='READY', status_message='', tags={}, user_id='', version='1'>],\n    'name': '4d525968-a1af-4503-968b-061a46855da5',\n    'tags': {}}\n{   'creation_timestamp': 1635204959134,\n    'description': '',\n    'last_updated_timestamp': 1635204959134,\n    'latest_versions': [   <ModelVersion: creation_timestamp=1638482039911, current_stage='None', description='', last_updated_timestamp=1638482039911, name='ElasticnetWineModel', run_id='mlflow-column-model_1638482010_00a87385', run_link='', source='azureml://experiments/mlflow-column-model/runs/mlflow-column-model_1638482010_00a87385/artifacts/model', status='READY', status_message='', tags={}, user_id='', version='12'>],\n    'name': 'ElasticnetWineModel',\n    'tags': {}}\n{   'creation_timestamp': 1635268265875,\n    'description': '',\n    'last_updated_timestamp': 1635268265875,\n    'latest_versions': [   <ModelVersion: creation_timestamp=1635268265897, current_stage='None', description='Ridge regression model to predict diabetes progression.', last_updated_timestamp=1635268265897, name='my-sklearn-model', run_id='', run_link='', source='', status='READY', status_message='', tags={'area': 'diabetes', 'type': 'regression'}, user_id='', version='1'>],\n    'name': 'my-sklearn-model',\n    'tags': {}}\n{   'creation_timestamp': 1635271341446,\n    'description': '',\n    'last_updated_timestamp': 1635271341446,\n    'latest_versions': [   <ModelVersion: creation_timestamp=1635271342421, current_stage='None', description='', last_updated_timestamp=1635271342421, name='sk-learn-random-forest-reg-model', run_id='d6f28473-4ad4-48cb-a47d-019d72d90ea9', run_link='', source='azureml://experiments/model-reg/runs/d6f28473-4ad4-48cb-a47d-019d72d90ea9/artifacts/sklearn-model', status='READY', status_message='', tags={}, user_id='', version='1'>],\n    'name': 'sk-learn-random-forest-reg-model',\n    'tags': {}}\n{   'creation_timestamp': 1635272057101,\n    'description': '',\n    'last_updated_timestamp': 1635272057101,\n    'latest_versions': [],\n    'name': 'sk-learn-random-forest-reg-model12',\n    'tags': {}}\n{   'creation_timestamp': 1635272191506,\n    'description': '',\n    'last_updated_timestamp': 1635272191506,\n    'latest_versions': [],\n    'name': 'sk-learn-random-forest-reg-model123',\n    'tags': {}}\n{   'creation_timestamp': 1635272617130,\n    'description': '',\n    'last_updated_timestamp': 1635272617130,\n    'latest_versions': [   <ModelVersion: creation_timestamp=1635272618079, current_stage='None', description='', last_updated_timestamp=1635272618079, name='sk-learn-random-forest-reg12', run_id='d6f28473-4ad4-48cb-a47d-019d72d90ea9', run_link='', source='azureml://experiments/model-reg/runs/d6f28473-4ad4-48cb-a47d-019d72d90ea9/artifacts/sklearn-model', status='READY', status_message='', tags={}, user_id='', version='1'>],\n    'name': 'sk-learn-random-forest-reg12',\n    'tags': {}}\n{   'creation_timestamp': 1635281685085,\n    'description': '',\n    'last_updated_timestamp': 1635281685085,\n    'latest_versions': [   <ModelVersion: creation_timestamp=1635282933886, current_stage='None', description='', last_updated_timestamp=1635282933886, name='blah', run_id='test-abe_1635281055_3ea2e9d3', run_link='', source='azureml://experiments/test-abe/runs/test-abe_1635281055_3ea2e9d3/artifacts/model', status='READY', status_message='', tags={}, user_id='', version='2'>],\n    'name': 'blah',\n    'tags': {}}\n{   'creation_timestamp': 1635284250419,\n    'description': '',\n    'last_updated_timestamp': 1635284250419,\n    'latest_versions': [   <ModelVersion: creation_timestamp=1635284250442, current_stage='None', description='', last_updated_timestamp=1635284250442, name='sample-mlflow-sklearn-model', run_id='', run_link='', source='', status='READY', status_message='', tags={}, user_id='', version='1'>],\n    'name': 'sample-mlflow-sklearn-model',\n    'tags': {}}\n{   'creation_timestamp': 1635291140660,\n    'description': '',\n    'last_updated_timestamp': 1635291140660,\n    'latest_versions': [   <ModelVersion: creation_timestamp=1635291140685, current_stage='None', description='', last_updated_timestamp=1635293559295, name='mlflow-sklearn-model', run_id='', run_link='', source='', status='READY', status_message='', tags={}, user_id='', version='1'>],\n    'name': 'mlflow-sklearn-model',\n    'tags': {}}\n{   'creation_timestamp': 1635362258841,\n    'description': '',\n    'last_updated_timestamp': 1635362258841,\n    'latest_versions': [   <ModelVersion: creation_timestamp=1635362259614, current_stage='Production', description='', last_updated_timestamp=1638587680850, name='scenario_2_model', run_id='13c5faef-788f-439d-ba6c-cb8d280e708d', run_link='', source='azureml://experiments/test-abe/runs/13c5faef-788f-439d-ba6c-cb8d280e708d/artifacts/model', status='READY', status_message='', tags={}, user_id='', version='1'>,\n                           <ModelVersion: creation_timestamp=1638587593589, current_stage='None', description='', last_updated_timestamp=1638587593589, name='scenario_2_model', run_id='Scenario2_project_1638586862_9ed4fdf5', run_link='', source='azureml://experiments/Scenario2_project/runs/Scenario2_project_1638586862_9ed4fdf5/artifacts/model', status='READY', status_message='', tags={}, user_id='', version='2'>],\n    'name': 'scenario_2_model',\n    'tags': {}}\n{   'creation_timestamp': 1635374517245,\n    'description': '',\n    'last_updated_timestamp': 1635374517245,\n    'latest_versions': [   <ModelVersion: creation_timestamp=1635374518091, current_stage='None', description='', last_updated_timestamp=1635374518091, name='sk-learn-diabetes', run_id='4709a644-5f76-442c-89fd-458122f1c2de', run_link='', source='azureml://experiments/test-abe/runs/4709a644-5f76-442c-89fd-458122f1c2de/artifacts/model', status='READY', status_message='', tags={}, user_id='', version='1'>],\n    'name': 'sk-learn-diabetes',\n    'tags': {}}\n{   'creation_timestamp': 1635461657361,\n    'description': '',\n    'last_updated_timestamp': 1635461657361,\n    'latest_versions': [   <ModelVersion: creation_timestamp=1635465819260, current_stage='None', description='', last_updated_timestamp=1635465819260, name='mlflow-test-mir-model', run_id='13c5faef-788f-439d-ba6c-cb8d280e708d', run_link='', source='azureml://experiments/test-abe/runs/13c5faef-788f-439d-ba6c-cb8d280e708d/artifacts/model', status='READY', status_message='', tags={}, user_id='', version='5'>],\n    'name': 'mlflow-test-mir-model',\n    'tags': {}}\n{   'creation_timestamp': 1635901170256,\n    'description': '',\n    'last_updated_timestamp': 1635901170256,\n    'latest_versions': [],\n    'name': 'registered_model_name',\n    'tags': {}}\n{   'creation_timestamp': 1636663220239,\n    'description': '',\n    'last_updated_timestamp': 1636663220239,\n    'latest_versions': [   <ModelVersion: creation_timestamp=1636750853003, current_stage='None', description='', last_updated_timestamp=1636750853003, name='mlflow-test-aci-model', run_id='2a0dcfe7-03a2-46cc-bec3-e84dba11dcd5', run_link='', source='azureml://experiments/test-abe/runs/2a0dcfe7-03a2-46cc-bec3-e84dba11dcd5/artifacts/model', status='READY', status_message='', tags={}, user_id='', version='3'>],\n    'name': 'mlflow-test-aci-model',\n    'tags': {}}\n{   'creation_timestamp': 1636741419539,\n    'description': '',\n    'last_updated_timestamp': 1636741419539,\n    'latest_versions': [   <ModelVersion: creation_timestamp=1636741420514, current_stage='None', description='', last_updated_timestamp=1636741420514, name='mlflow-test-aci2-model', run_id='TestExperiment_1635210581_8ee8b4c6', run_link='', source='azureml://experiments/TestExperiment/runs/TestExperiment_1635210581_8ee8b4c6/artifacts/model', status='READY', status_message='', tags={}, user_id='', version='1'>],\n    'name': 'mlflow-test-aci2-model',\n    'tags': {}}\n{   'creation_timestamp': 1636750865520,\n    'description': '',\n    'last_updated_timestamp': 1636750865520,\n    'latest_versions': [   <ModelVersion: creation_timestamp=1636750866554, current_stage='None', description='', last_updated_timestamp=1636750866554, name='mlflow-test-aci3-model', run_id='2a0dcfe7-03a2-46cc-bec3-e84dba11dcd5', run_link='', source='azureml://experiments/test-abe/runs/2a0dcfe7-03a2-46cc-bec3-e84dba11dcd5/artifacts/model', status='READY', status_message='', tags={}, user_id='', version='1'>],\n    'name': 'mlflow-test-aci3-model',\n    'tags': {}}\n{   'creation_timestamp': 1637024680393,\n    'description': '',\n    'last_updated_timestamp': 1637024680393,\n    'latest_versions': [],\n    'name': 'registered_model_name_2',\n    'tags': {}}\n{   'creation_timestamp': 1637623459340,\n    'description': '',\n    'last_updated_timestamp': 1637623459340,\n    'latest_versions': [   <ModelVersion: creation_timestamp=1641326903447, current_stage='None', description='', last_updated_timestamp=1641326903447, name='mlflow_project', run_id='explore_projects_1637621370_7e433735', run_link='', source='azureml://experiments/explore_projects/runs/explore_projects_1637621370_7e433735/artifacts/model', status='READY', status_message='', tags={}, user_id='', version='3'>],\n    'name': 'mlflow_project',\n    'tags': {}}\n{   'creation_timestamp': 1638391154013,\n    'description': '',\n    'last_updated_timestamp': 1638391154013,\n    'latest_versions': [   <ModelVersion: creation_timestamp=1638477053092, current_stage='None', description='', last_updated_timestamp=1638477053092, name='mir-test-model', run_id='explore_projects_1638476936_656f5d1a', run_link='', source='azureml://experiments/explore_projects/runs/explore_projects_1638476936_656f5d1a/artifacts/model', status='READY', status_message='', tags={}, user_id='', version='4'>],\n    'name': 'mir-test-model',\n    'tags': {}}\n{   'creation_timestamp': 1638393728709,\n    'description': '',\n    'last_updated_timestamp': 1638393728709,\n    'latest_versions': [   <ModelVersion: creation_timestamp=1638393729668, current_stage='None', description='', last_updated_timestamp=1638393729668, name='mir-test-2-model', run_id='075f4c08-c7d1-4f9b-aff3-be64b43d9e6d', run_link='', source='azureml://experiments/test-abe/runs/075f4c08-c7d1-4f9b-aff3-be64b43d9e6d/artifacts/model', status='READY', status_message='', tags={}, user_id='', version='1'>],\n    'name': 'mir-test-2-model',\n    'tags': {}}\n{   'creation_timestamp': 1638477076961,\n    'description': '',\n    'last_updated_timestamp': 1638477076961,\n    'latest_versions': [   <ModelVersion: creation_timestamp=1638478558182, current_stage='None', description='', last_updated_timestamp=1638478558182, name='mir-test3-model', run_id='explore_projects_1638476936_656f5d1a', run_link='', source='azureml://experiments/explore_projects/runs/explore_projects_1638476936_656f5d1a/artifacts/model', status='READY', status_message='', tags={}, user_id='', version='3'>],\n    'name': 'mir-test3-model',\n    'tags': {}}\n{   'creation_timestamp': 1638478598377,\n    'description': '',\n    'last_updated_timestamp': 1638478598377,\n    'latest_versions': [   <ModelVersion: creation_timestamp=1638478599411, current_stage='None', description='', last_updated_timestamp=1638478599411, name='mir-test4-model', run_id='explore_projects_1638476936_656f5d1a', run_link='', source='azureml://experiments/explore_projects/runs/explore_projects_1638476936_656f5d1a/artifacts/model', status='READY', status_message='', tags={}, user_id='', version='1'>],\n    'name': 'mir-test4-model',\n    'tags': {}}\n{   'creation_timestamp': 1638482136763,\n    'description': '',\n    'last_updated_timestamp': 1638482136763,\n    'latest_versions': [   <ModelVersion: creation_timestamp=1638482685813, current_stage='None', description='', last_updated_timestamp=1638482685813, name='mir-test5-model', run_id='mlflow-column-model_1638482010_00a87385', run_link='', source='azureml://experiments/mlflow-column-model/runs/mlflow-column-model_1638482010_00a87385/artifacts/model', status='READY', status_message='', tags={}, user_id='', version='3'>],\n    'name': 'mir-test5-model',\n    'tags': {}}\n{   'creation_timestamp': 1638482704762,\n    'description': '',\n    'last_updated_timestamp': 1638482704762,\n    'latest_versions': [   <ModelVersion: creation_timestamp=1638486570447, current_stage='None', description='', last_updated_timestamp=1638486570447, name='mir-test6-model', run_id='mlflow-column-model_1638482010_00a87385', run_link='', source='azureml://experiments/mlflow-column-model/runs/mlflow-column-model_1638482010_00a87385/artifacts/model', status='READY', status_message='', tags={}, user_id='', version='3'>],\n    'name': 'mir-test6-model',\n    'tags': {}}\n{   'creation_timestamp': 1638487710221,\n    'description': '',\n    'last_updated_timestamp': 1638487710221,\n    'latest_versions': [   <ModelVersion: creation_timestamp=1638487711414, current_stage='Archived', description='', last_updated_timestamp=1638493688899, name='aci-test-model', run_id='mlflow-column-model_1638482010_00a87385', run_link='', source='azureml://experiments/mlflow-column-model/runs/mlflow-column-model_1638482010_00a87385/artifacts/model', status='READY', status_message='', tags={}, user_id='', version='1'>],\n    'name': 'aci-test-model',\n    'tags': {}}\n{   'creation_timestamp': 1638580786994,\n    'description': '',\n    'last_updated_timestamp': 1638580786994,\n    'latest_versions': [   <ModelVersion: creation_timestamp=1638584843147, current_stage='Production', description='', last_updated_timestamp=1638584852630, name='Scenario2_model', run_id='Scenario2_project_1638584794_a0529b53', run_link='', source='azureml://experiments/Scenario2_project/runs/Scenario2_project_1638584794_a0529b53/artifacts/model', status='READY', status_message='', tags={}, user_id='', version='2'>],\n    'name': 'Scenario2_model',\n    'tags': {}}\n{   'creation_timestamp': 1638581274373,\n    'description': '',\n    'last_updated_timestamp': 1638581274373,\n    'latest_versions': [   <ModelVersion: creation_timestamp=1638581275418, current_stage='None', description='', last_updated_timestamp=1638581275418, name='mlflow-scenario2-model', run_id='Scenario2_project_1638579316_c7ebfbfa', run_link='', source='azureml://experiments/Scenario2_project/runs/Scenario2_project_1638579316_c7ebfbfa/artifacts/model', status='READY', status_message='', tags={}, user_id='', version='1'>],\n    'name': 'mlflow-scenario2-model',\n    'tags': {}}\n{   'creation_timestamp': 1638588485122,\n    'description': '',\n    'last_updated_timestamp': 1638588485122,\n    'latest_versions': [   <ModelVersion: creation_timestamp=1638588486086, current_stage='Production', description='', last_updated_timestamp=1638588487087, name='scenario2model', run_id='Scenario2_project_1638586862_9ed4fdf5', run_link='', source='azureml://experiments/Scenario2_project/runs/Scenario2_project_1638586862_9ed4fdf5/artifacts/model', status='READY', status_message='', tags={}, user_id='', version='1'>,\n                           <ModelVersion: creation_timestamp=1638814541944, current_stage='None', description='', last_updated_timestamp=1638814541944, name='scenario2model', run_id='Scenario2_project_1638814400_6d76b34a', run_link='', source='azureml://experiments/Scenario2_project/runs/Scenario2_project_1638814400_6d76b34a/artifacts/model', status='READY', status_message='', tags={}, user_id='', version='2'>],\n    'name': 'scenario2model',\n    'tags': {}}\n{   'creation_timestamp': 1639689100490,\n    'description': '',\n    'last_updated_timestamp': 1639689100490,\n    'latest_versions': [   <ModelVersion: creation_timestamp=1639689100513, current_stage='None', description='', last_updated_timestamp=1639689100513, name='sdfas', run_id='', run_link='', source='', status='READY', status_message='', tags={}, user_id='', version='1'>],\n    'name': 'sdfas',\n    'tags': {}}\n"
        }
      ],
      "execution_count": 4,
      "metadata": {
        "jupyter": {
          "source_hidden": false,
          "outputs_hidden": false
        },
        "nteract": {
          "transient": {
            "deleting": false
          }
        },
        "gather": {
          "logged": 1641329588195
        }
      }
    },
    {
      "cell_type": "markdown",
      "source": [
        "## Query artifacts from a run (including Models) and Download"
      ],
      "metadata": {
        "nteract": {
          "transient": {
            "deleting": false
          }
        }
      }
    },
    {
      "cell_type": "code",
      "source": [
        "model = mlflow.sklearn.load_model(\"runs:/experiment_with_mlflow_remote_1633124216_c95519e1/model\")"
      ],
      "outputs": [
        {
          "output_type": "stream",
          "name": "stderr",
          "text": "/anaconda/envs/azureml_py36/lib/python3.6/site-packages/sklearn/base.py:318: UserWarning: Trying to unpickle estimator Ridge from version 0.24.2 when using version 0.22.2.post1. This might lead to breaking code or invalid results. Use at your own risk.\n  UserWarning)\n"
        }
      ],
      "execution_count": 5,
      "metadata": {
        "jupyter": {
          "source_hidden": false,
          "outputs_hidden": false
        },
        "nteract": {
          "transient": {
            "deleting": false
          }
        },
        "gather": {
          "logged": 1641329597738
        }
      }
    },
    {
      "cell_type": "code",
      "source": [
        "client = MlflowClient()\r\n",
        "\r\n",
        "def print_artifact_info(artifact):\r\n",
        "    print(\"artifact: {}\".format(artifact.path))\r\n",
        "    print(\"is_dir: {}\".format(artifact.is_dir))\r\n",
        "    print(\"size: {}\".format(artifact.file_size))\r\n",
        "\r\n",
        "#run\r\n",
        "# Fetch the logged artifacts\r\n",
        "artifacts = client.list_artifacts(\"experiment_with_mlflow_remote_1633124216_c95519e1\")\r\n",
        "for artifact in artifacts:\r\n",
        "    #print_artifact_info(artifact)\r\n",
        "    print(artifact)\r\n",
        "\r\n",
        "client.download_artifacts(\"experiment_with_mlflow_remote_1633124216_c95519e1\",\"model\",\".\")"
      ],
      "outputs": [
        {
          "output_type": "stream",
          "name": "stdout",
          "text": "<FileInfo: file_size=-1, is_dir=False, path='actuals_vs_predictions.png'>\n<FileInfo: file_size=-1, is_dir=True, path='azureml-logs'>\n<FileInfo: file_size=-1, is_dir=True, path='azureml-logs'>\n<FileInfo: file_size=-1, is_dir=True, path='azureml-logs'>\n<FileInfo: file_size=-1, is_dir=True, path='azureml-logs'>\n<FileInfo: file_size=-1, is_dir=True, path='azureml-logs'>\n<FileInfo: file_size=-1, is_dir=True, path='azureml-logs'>\n<FileInfo: file_size=-1, is_dir=True, path='logs'>\n<FileInfo: file_size=-1, is_dir=True, path='logs'>\n<FileInfo: file_size=-1, is_dir=True, path='logs'>\n<FileInfo: file_size=-1, is_dir=True, path='model'>\n<FileInfo: file_size=-1, is_dir=True, path='model'>\n<FileInfo: file_size=-1, is_dir=True, path='model'>\n<FileInfo: file_size=-1, is_dir=True, path='model'>\n"
        },
        {
          "output_type": "execute_result",
          "execution_count": 6,
          "data": {
            "text/plain": "'/mnt/batch/tasks/shared/LS_root/mounts/clusters/osomorog4/code/Users/osomorog/MLFlow_Scenarios/Scenario2_Train_deploy_with_MLFlow_and_AML/Scenario2b_Search_and_Compare_with_MLFlow/model'"
          },
          "metadata": {}
        }
      ],
      "execution_count": 6,
      "metadata": {
        "jupyter": {
          "source_hidden": false,
          "outputs_hidden": false
        },
        "nteract": {
          "transient": {
            "deleting": false
          }
        },
        "gather": {
          "logged": 1641329604877
        }
      }
    }
  ],
  "metadata": {
    "kernelspec": {
      "name": "python3-azureml",
      "language": "python",
      "display_name": "Python 3.6 - AzureML"
    },
    "language_info": {
      "name": "python",
      "version": "3.6.9",
      "mimetype": "text/x-python",
      "codemirror_mode": {
        "name": "ipython",
        "version": 3
      },
      "pygments_lexer": "ipython3",
      "nbconvert_exporter": "python",
      "file_extension": ".py"
    },
    "kernel_info": {
      "name": "python3-azureml"
    },
    "nteract": {
      "version": "nteract-front-end@1.0.0"
    }
  },
  "nbformat": 4,
  "nbformat_minor": 0
}