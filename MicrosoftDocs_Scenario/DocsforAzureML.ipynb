{
  "cells": [
    {
      "cell_type": "markdown",
      "source": [
        "This notebook is using all the coomands outlined in the [AzureML MLFlow Docs](https://docs.microsoft.com/en-us/azure/machine-learning/how-to-use-mlflow-cli-runs?tabs=mlflow)"
      ],
      "metadata": {
        "nteract": {
          "transient": {
            "deleting": false
          }
        }
      }
    },
    {
      "cell_type": "markdown",
      "source": [
        "## Install Az ML extension to Notebook Kernel "
      ],
      "metadata": {
        "nteract": {
          "transient": {
            "deleting": false
          }
        }
      }
    },
    {
      "cell_type": "code",
      "source": [
        "!az extension add -n ml -y "
      ],
      "outputs": [
        {
          "output_type": "stream",
          "name": "stdout",
          "text": "\u001b[K - Searching ..\r\u001b[93mExtension 'ml' is already installed.\u001b[0m\r\n"
        }
      ],
      "execution_count": 1,
      "metadata": {
        "jupyter": {
          "source_hidden": false,
          "outputs_hidden": false
        },
        "nteract": {
          "transient": {
            "deleting": false
          }
        },
        "ms_comments": [],
        "ms_comment_ranges": {}
      }
    },
    {
      "cell_type": "markdown",
      "source": [
        "## Login Azure to retrieve Tracking URI"
      ],
      "metadata": {
        "nteract": {
          "transient": {
            "deleting": false
          }
        }
      }
    },
    {
      "cell_type": "code",
      "source": [
        "!az login"
      ],
      "outputs": [],
      "execution_count": null,
      "metadata": {
        "jupyter": {
          "source_hidden": false,
          "outputs_hidden": false
        },
        "nteract": {
          "transient": {
            "deleting": false
          }
        }
      }
    },
    {
      "cell_type": "markdown",
      "source": [
        "## Set up tracking environment"
      ],
      "metadata": {
        "nteract": {
          "transient": {
            "deleting": false
          }
        }
      }
    },
    {
      "cell_type": "code",
      "source": [
        "import subprocess\r\n",
        "\r\n",
        "#Get MLFLow UI through the Azure ML CLI v2 and convert to string\r\n",
        "MLFLOW_TRACKING_URI = subprocess.run([\"az\", \"ml\", \"workspace\", \"show\", \"--query\", \"mlflow_tracking_uri\", \"-o\", \"tsv\"], stdout=subprocess.PIPE, text=True)\r\n",
        "MLFLOW_TRACKING_URI = str(MLFLOW_TRACKING_URI.stdout).strip()\r\n",
        "\r\n",
        "## Make sure the MLFLow URI looks something like this: \r\n",
        "## azureml://westus.api.azureml.ms/mlflow/v1.0/subscriptions/<Sub-ID>/resourceGroups/<RG>/providers/Microsoft.MachineLearningServices/workspaces/<WS>\r\n",
        "print(\"MLFlow Tracking URI:\", MLFLOW_TRACKING_URI)"
      ],
      "outputs": [
        {
          "output_type": "stream",
          "name": "stderr",
          "text": "WARNING: Command group 'ml workspace' is in preview and under development. Reference and support levels: https://aka.ms/CLI_refstatus\n"
        },
        {
          "output_type": "stream",
          "name": "stdout",
          "text": "MLFlow Tracking URI: azureml://westus.api.azureml.ms/mlflow/v1.0/subscriptions/95a911b6-47f7-4a8b-be9b-c1c2bf56579b/resourceGroups/osomorog/providers/Microsoft.MachineLearningServices/workspaces/mlflowworkspace\n"
        }
      ],
      "execution_count": 4,
      "metadata": {
        "jupyter": {
          "source_hidden": false,
          "outputs_hidden": false
        },
        "nteract": {
          "transient": {
            "deleting": false
          }
        },
        "gather": {
          "logged": 1641326641763
        }
      }
    },
    {
      "cell_type": "code",
      "source": [
        "## Set the MLFLOW TRACKING URI\r\n",
        "import mlflow\r\n",
        "mlflow.set_tracking_uri(MLFLOW_TRACKING_URI)"
      ],
      "outputs": [],
      "execution_count": 5,
      "metadata": {
        "jupyter": {
          "source_hidden": false,
          "outputs_hidden": false
        },
        "nteract": {
          "transient": {
            "deleting": false
          }
        },
        "gather": {
          "logged": 1641326739849
        }
      }
    },
    {
      "cell_type": "markdown",
      "source": [
        "## Set experiment name"
      ],
      "metadata": {
        "nteract": {
          "transient": {
            "deleting": false
          }
        }
      }
    },
    {
      "cell_type": "code",
      "source": [
        "import mlflow\r\n",
        "experiment_name = 'experiment_with_mlflow'\r\n",
        "mlflow.set_experiment(experiment_name)"
      ],
      "outputs": [
        {
          "output_type": "execute_result",
          "execution_count": 6,
          "data": {
            "text/plain": "<Experiment: artifact_location='', experiment_id='c3732977-6d76-4192-bccf-38cac682b7b7', lifecycle_stage='active', name='experiment_with_mlflow', tags={}>"
          },
          "metadata": {}
        }
      ],
      "execution_count": 6,
      "metadata": {
        "jupyter": {
          "source_hidden": false,
          "outputs_hidden": false
        },
        "nteract": {
          "transient": {
            "deleting": false
          }
        },
        "gather": {
          "logged": 1641326885040
        }
      }
    },
    {
      "cell_type": "markdown",
      "source": [
        "## Start training run"
      ],
      "metadata": {
        "nteract": {
          "transient": {
            "deleting": false
          }
        }
      }
    },
    {
      "cell_type": "code",
      "source": [
        "import os\r\n",
        "from random import random\r\n",
        "\r\n",
        "with mlflow.start_run() as mlflow_run:\r\n",
        "    mlflow.log_param(\"hello_param\", \"world\")\r\n",
        "    mlflow.log_metric(\"hello_metric\", random())\r\n",
        "    os.system(f\"echo 'hello world' > helloworld.txt\")\r\n",
        "    mlflow.log_artifact(\"helloworld.txt\")\r\n"
      ],
      "outputs": [],
      "execution_count": 7,
      "metadata": {
        "jupyter": {
          "source_hidden": false,
          "outputs_hidden": false
        },
        "nteract": {
          "transient": {
            "deleting": false
          }
        },
        "gather": {
          "logged": 1641326889546
        }
      }
    },
    {
      "cell_type": "markdown",
      "source": [
        "## View metrics and artifacts in your workspace"
      ],
      "metadata": {
        "nteract": {
          "transient": {
            "deleting": false
          }
        }
      }
    },
    {
      "cell_type": "code",
      "source": [
        "from mlflow.tracking import MlflowClient\r\n",
        "# Use MlFlow to retrieve the run that was just completed\r\n",
        "client = MlflowClient()\r\n",
        "run_id = mlflow_run.info.run_id\r\n",
        "finished_mlflow_run = MlflowClient().get_run(run_id)\r\n",
        "\r\n",
        "metrics = finished_mlflow_run.data.metrics\r\n",
        "tags = finished_mlflow_run.data.tags\r\n",
        "params = finished_mlflow_run.data.params\r\n",
        "\r\n",
        "print(metrics,tags,params)\r\n"
      ],
      "outputs": [
        {
          "output_type": "stream",
          "name": "stdout",
          "text": "{'hello_metric': 0.22932996514226034} {'mlflow.user': 'azureuser', 'mlflow.source.name': '/anaconda/envs/azureml_py38/lib/python3.8/site-packages/ipykernel_launcher.py', 'mlflow.source.type': 'LOCAL', 'mlflow.rootRunId': 'b815c394-593f-4487-b3fa-c4d810eb7104'} {'hello_param': 'world'}\n"
        }
      ],
      "execution_count": 8,
      "metadata": {
        "jupyter": {
          "source_hidden": false,
          "outputs_hidden": false
        },
        "nteract": {
          "transient": {
            "deleting": false
          }
        },
        "gather": {
          "logged": 1641326891077
        }
      }
    },
    {
      "cell_type": "markdown",
      "source": [
        "## Retrieve artifacts with MLFLow"
      ],
      "metadata": {
        "nteract": {
          "transient": {
            "deleting": false
          }
        }
      }
    },
    {
      "cell_type": "code",
      "source": [
        "client.list_artifacts(run_id)"
      ],
      "outputs": [
        {
          "output_type": "execute_result",
          "execution_count": 9,
          "data": {
            "text/plain": "[<FileInfo: file_size=-1, is_dir=False, path='helloworld.txt'>]"
          },
          "metadata": {}
        }
      ],
      "execution_count": 9,
      "metadata": {
        "jupyter": {
          "source_hidden": false,
          "outputs_hidden": false
        },
        "nteract": {
          "transient": {
            "deleting": false
          }
        },
        "gather": {
          "logged": 1641326894177
        }
      }
    },
    {
      "cell_type": "code",
      "source": [
        "client.download_artifacts(run_id, \"helloworld.txt\", \".\")"
      ],
      "outputs": [
        {
          "output_type": "execute_result",
          "execution_count": 10,
          "data": {
            "text/plain": "'/mnt/batch/tasks/shared/LS_root/mounts/clusters/osomorog4/code/Users/osomorog/MLFlow_Scenarios/MicrosoftDocs_Scenario/helloworld.txt'"
          },
          "metadata": {}
        }
      ],
      "execution_count": 10,
      "metadata": {
        "jupyter": {
          "source_hidden": false,
          "outputs_hidden": false
        },
        "nteract": {
          "transient": {
            "deleting": false
          }
        },
        "gather": {
          "logged": 1641326896611
        }
      }
    },
    {
      "cell_type": "markdown",
      "source": [
        "## Compare and query"
      ],
      "metadata": {
        "nteract": {
          "transient": {
            "deleting": false
          }
        }
      }
    },
    {
      "cell_type": "code",
      "source": [
        "### Compare and query:\r\n",
        "from mlflow.entities import ViewType\r\n",
        "\r\n",
        "all_experiments = [exp.experiment_id for exp in MlflowClient().list_experiments()]\r\n",
        "query = \"metrics.hello_metric > 0\"\r\n",
        "runs = mlflow.search_runs(experiment_ids=all_experiments, filter_string=query, run_view_type=ViewType.ALL)\r\n",
        "\r\n",
        "runs.head(10)\r\n"
      ],
      "outputs": [
        {
          "output_type": "execute_result",
          "execution_count": 11,
          "data": {
            "text/plain": "                                 run_id                         experiment_id  \\\n0  9d6edb9b-f9d8-4870-bc6f-5d192c28e81a  18168c22-8581-4420-9b3b-4301464d25c3   \n1  4e10a4f8-06a1-4e4d-8423-cafb7be78371  c3732977-6d76-4192-bccf-38cac682b7b7   \n2  dd459782-9e85-4544-af88-9eb492ac74ec  c3732977-6d76-4192-bccf-38cac682b7b7   \n3  26edd15b-9cce-4a30-b422-c7439aedb06a  c3732977-6d76-4192-bccf-38cac682b7b7   \n4  ec8d02d1-dbc3-4fdb-83bd-d24e25db1df7  c3732977-6d76-4192-bccf-38cac682b7b7   \n5  932e4da8-76af-4f27-89e5-6ce83c994823  c3732977-6d76-4192-bccf-38cac682b7b7   \n6  09bb00f9-3d7f-4f6e-93b7-856c0c30c68b  c3732977-6d76-4192-bccf-38cac682b7b7   \n7  f419dbd3-991f-40b6-8bac-d7c93f07e737  c3732977-6d76-4192-bccf-38cac682b7b7   \n8  2e2d035f-3f67-45bb-8e06-a23c55a81c53  c3732977-6d76-4192-bccf-38cac682b7b7   \n9  b815c394-593f-4487-b3fa-c4d810eb7104  c3732977-6d76-4192-bccf-38cac682b7b7   \n\n     status artifact_uri                       start_time  \\\n0  FINISHED              2021-10-13 00:17:53.632000+00:00   \n1  FINISHED              2021-11-16 00:59:20.789000+00:00   \n2  FINISHED              2021-11-16 01:04:06.568000+00:00   \n3  FINISHED              2021-11-16 01:22:56.810000+00:00   \n4  FINISHED              2021-11-16 01:51:58.870000+00:00   \n5  FINISHED              2021-11-20 00:02:11.545000+00:00   \n6  FINISHED              2021-11-30 21:47:37.287000+00:00   \n7  FINISHED              2021-11-30 22:23:42.119000+00:00   \n8  FINISHED              2021-12-03 01:15:41.794000+00:00   \n9  FINISHED              2022-01-04 20:08:07.182000+00:00   \n\n                          end_time  metrics.hello_metric params.hello_param  \\\n0 2021-10-13 00:21:00.184000+00:00              0.272088              world   \n1 2021-11-16 00:59:23.846000+00:00              0.056947              world   \n2 2021-11-16 01:05:02.270000+00:00              0.882664              world   \n3 2021-11-16 01:22:58.738000+00:00              0.023711              world   \n4 2021-11-16 01:52:01.301000+00:00              0.586012              world   \n5 2021-11-20 00:02:14.431000+00:00              0.267684              world   \n6 2021-11-30 21:47:39.326000+00:00              0.277389              world   \n7 2021-11-30 22:23:43.646000+00:00              0.202618              world   \n8 2021-12-03 01:15:44.493000+00:00              0.425617              world   \n9 2022-01-04 20:08:09.310000+00:00              0.229330              world   \n\n                  tags.mlflow.rootRunId tags.mlflow.source.type  \\\n0  9d6edb9b-f9d8-4870-bc6f-5d192c28e81a                    None   \n1  4e10a4f8-06a1-4e4d-8423-cafb7be78371                   LOCAL   \n2  dd459782-9e85-4544-af88-9eb492ac74ec                    None   \n3  26edd15b-9cce-4a30-b422-c7439aedb06a                   LOCAL   \n4  ec8d02d1-dbc3-4fdb-83bd-d24e25db1df7                   LOCAL   \n5  932e4da8-76af-4f27-89e5-6ce83c994823                   LOCAL   \n6  09bb00f9-3d7f-4f6e-93b7-856c0c30c68b                   LOCAL   \n7  f419dbd3-991f-40b6-8bac-d7c93f07e737                   LOCAL   \n8  2e2d035f-3f67-45bb-8e06-a23c55a81c53                   LOCAL   \n9  b815c394-593f-4487-b3fa-c4d810eb7104                   LOCAL   \n\n  tags.mlflow.user                            tags.mlflow.source.name  \n0             None                                               None  \n1        azureuser  /anaconda/envs/azureml_py36/lib/python3.6/site...  \n2             None                                               None  \n3        azureuser  /anaconda/envs/azureml_py38/lib/python3.8/site...  \n4        azureuser  /anaconda/envs/azureml_py38/lib/python3.8/site...  \n5        azureuser  /anaconda/envs/azureml_py38/lib/python3.8/site...  \n6        azureuser  /anaconda/envs/azureml_py38/lib/python3.8/site...  \n7        azureuser                                       Untitled2.py  \n8        azureuser  /anaconda/envs/azureml_py38/lib/python3.8/site...  \n9        azureuser  /anaconda/envs/azureml_py38/lib/python3.8/site...  ",
            "text/html": "<div>\n<style scoped>\n    .dataframe tbody tr th:only-of-type {\n        vertical-align: middle;\n    }\n\n    .dataframe tbody tr th {\n        vertical-align: top;\n    }\n\n    .dataframe thead th {\n        text-align: right;\n    }\n</style>\n<table border=\"1\" class=\"dataframe\">\n  <thead>\n    <tr style=\"text-align: right;\">\n      <th></th>\n      <th>run_id</th>\n      <th>experiment_id</th>\n      <th>status</th>\n      <th>artifact_uri</th>\n      <th>start_time</th>\n      <th>end_time</th>\n      <th>metrics.hello_metric</th>\n      <th>params.hello_param</th>\n      <th>tags.mlflow.rootRunId</th>\n      <th>tags.mlflow.source.type</th>\n      <th>tags.mlflow.user</th>\n      <th>tags.mlflow.source.name</th>\n    </tr>\n  </thead>\n  <tbody>\n    <tr>\n      <th>0</th>\n      <td>9d6edb9b-f9d8-4870-bc6f-5d192c28e81a</td>\n      <td>18168c22-8581-4420-9b3b-4301464d25c3</td>\n      <td>FINISHED</td>\n      <td></td>\n      <td>2021-10-13 00:17:53.632000+00:00</td>\n      <td>2021-10-13 00:21:00.184000+00:00</td>\n      <td>0.272088</td>\n      <td>world</td>\n      <td>9d6edb9b-f9d8-4870-bc6f-5d192c28e81a</td>\n      <td>None</td>\n      <td>None</td>\n      <td>None</td>\n    </tr>\n    <tr>\n      <th>1</th>\n      <td>4e10a4f8-06a1-4e4d-8423-cafb7be78371</td>\n      <td>c3732977-6d76-4192-bccf-38cac682b7b7</td>\n      <td>FINISHED</td>\n      <td></td>\n      <td>2021-11-16 00:59:20.789000+00:00</td>\n      <td>2021-11-16 00:59:23.846000+00:00</td>\n      <td>0.056947</td>\n      <td>world</td>\n      <td>4e10a4f8-06a1-4e4d-8423-cafb7be78371</td>\n      <td>LOCAL</td>\n      <td>azureuser</td>\n      <td>/anaconda/envs/azureml_py36/lib/python3.6/site...</td>\n    </tr>\n    <tr>\n      <th>2</th>\n      <td>dd459782-9e85-4544-af88-9eb492ac74ec</td>\n      <td>c3732977-6d76-4192-bccf-38cac682b7b7</td>\n      <td>FINISHED</td>\n      <td></td>\n      <td>2021-11-16 01:04:06.568000+00:00</td>\n      <td>2021-11-16 01:05:02.270000+00:00</td>\n      <td>0.882664</td>\n      <td>world</td>\n      <td>dd459782-9e85-4544-af88-9eb492ac74ec</td>\n      <td>None</td>\n      <td>None</td>\n      <td>None</td>\n    </tr>\n    <tr>\n      <th>3</th>\n      <td>26edd15b-9cce-4a30-b422-c7439aedb06a</td>\n      <td>c3732977-6d76-4192-bccf-38cac682b7b7</td>\n      <td>FINISHED</td>\n      <td></td>\n      <td>2021-11-16 01:22:56.810000+00:00</td>\n      <td>2021-11-16 01:22:58.738000+00:00</td>\n      <td>0.023711</td>\n      <td>world</td>\n      <td>26edd15b-9cce-4a30-b422-c7439aedb06a</td>\n      <td>LOCAL</td>\n      <td>azureuser</td>\n      <td>/anaconda/envs/azureml_py38/lib/python3.8/site...</td>\n    </tr>\n    <tr>\n      <th>4</th>\n      <td>ec8d02d1-dbc3-4fdb-83bd-d24e25db1df7</td>\n      <td>c3732977-6d76-4192-bccf-38cac682b7b7</td>\n      <td>FINISHED</td>\n      <td></td>\n      <td>2021-11-16 01:51:58.870000+00:00</td>\n      <td>2021-11-16 01:52:01.301000+00:00</td>\n      <td>0.586012</td>\n      <td>world</td>\n      <td>ec8d02d1-dbc3-4fdb-83bd-d24e25db1df7</td>\n      <td>LOCAL</td>\n      <td>azureuser</td>\n      <td>/anaconda/envs/azureml_py38/lib/python3.8/site...</td>\n    </tr>\n    <tr>\n      <th>5</th>\n      <td>932e4da8-76af-4f27-89e5-6ce83c994823</td>\n      <td>c3732977-6d76-4192-bccf-38cac682b7b7</td>\n      <td>FINISHED</td>\n      <td></td>\n      <td>2021-11-20 00:02:11.545000+00:00</td>\n      <td>2021-11-20 00:02:14.431000+00:00</td>\n      <td>0.267684</td>\n      <td>world</td>\n      <td>932e4da8-76af-4f27-89e5-6ce83c994823</td>\n      <td>LOCAL</td>\n      <td>azureuser</td>\n      <td>/anaconda/envs/azureml_py38/lib/python3.8/site...</td>\n    </tr>\n    <tr>\n      <th>6</th>\n      <td>09bb00f9-3d7f-4f6e-93b7-856c0c30c68b</td>\n      <td>c3732977-6d76-4192-bccf-38cac682b7b7</td>\n      <td>FINISHED</td>\n      <td></td>\n      <td>2021-11-30 21:47:37.287000+00:00</td>\n      <td>2021-11-30 21:47:39.326000+00:00</td>\n      <td>0.277389</td>\n      <td>world</td>\n      <td>09bb00f9-3d7f-4f6e-93b7-856c0c30c68b</td>\n      <td>LOCAL</td>\n      <td>azureuser</td>\n      <td>/anaconda/envs/azureml_py38/lib/python3.8/site...</td>\n    </tr>\n    <tr>\n      <th>7</th>\n      <td>f419dbd3-991f-40b6-8bac-d7c93f07e737</td>\n      <td>c3732977-6d76-4192-bccf-38cac682b7b7</td>\n      <td>FINISHED</td>\n      <td></td>\n      <td>2021-11-30 22:23:42.119000+00:00</td>\n      <td>2021-11-30 22:23:43.646000+00:00</td>\n      <td>0.202618</td>\n      <td>world</td>\n      <td>f419dbd3-991f-40b6-8bac-d7c93f07e737</td>\n      <td>LOCAL</td>\n      <td>azureuser</td>\n      <td>Untitled2.py</td>\n    </tr>\n    <tr>\n      <th>8</th>\n      <td>2e2d035f-3f67-45bb-8e06-a23c55a81c53</td>\n      <td>c3732977-6d76-4192-bccf-38cac682b7b7</td>\n      <td>FINISHED</td>\n      <td></td>\n      <td>2021-12-03 01:15:41.794000+00:00</td>\n      <td>2021-12-03 01:15:44.493000+00:00</td>\n      <td>0.425617</td>\n      <td>world</td>\n      <td>2e2d035f-3f67-45bb-8e06-a23c55a81c53</td>\n      <td>LOCAL</td>\n      <td>azureuser</td>\n      <td>/anaconda/envs/azureml_py38/lib/python3.8/site...</td>\n    </tr>\n    <tr>\n      <th>9</th>\n      <td>b815c394-593f-4487-b3fa-c4d810eb7104</td>\n      <td>c3732977-6d76-4192-bccf-38cac682b7b7</td>\n      <td>FINISHED</td>\n      <td></td>\n      <td>2022-01-04 20:08:07.182000+00:00</td>\n      <td>2022-01-04 20:08:09.310000+00:00</td>\n      <td>0.229330</td>\n      <td>world</td>\n      <td>b815c394-593f-4487-b3fa-c4d810eb7104</td>\n      <td>LOCAL</td>\n      <td>azureuser</td>\n      <td>/anaconda/envs/azureml_py38/lib/python3.8/site...</td>\n    </tr>\n  </tbody>\n</table>\n</div>"
          },
          "metadata": {}
        }
      ],
      "execution_count": 11,
      "metadata": {
        "jupyter": {
          "source_hidden": false,
          "outputs_hidden": false
        },
        "nteract": {
          "transient": {
            "deleting": false
          }
        },
        "gather": {
          "logged": 1641326898629
        }
      }
    },
    {
      "cell_type": "markdown",
      "source": [
        "## Manage models"
      ],
      "metadata": {
        "nteract": {
          "transient": {
            "deleting": false
          }
        }
      }
    },
    {
      "cell_type": "code",
      "source": [
        "# the model folder produced from the run is registered. This includes the MLmodel file, model.pkl and the conda.yaml.\r\n",
        "import mlflow\r\n",
        "model_path = \"model\"\r\n",
        "model_uri = 'runs:/{}/{}'.format(\"explore_projects_1637621370_7e433735\", model_path) \r\n",
        "mlflow.register_model(model_uri,\"mlflow_project\")\r\n"
      ],
      "outputs": [
        {
          "output_type": "stream",
          "name": "stderr",
          "text": "Registered model 'mlflow_project' already exists. Creating a new version of this model...\n2022/01/04 20:08:23 INFO mlflow.tracking._model_registry.client: Waiting up to 300 seconds for model version to finish creation.                     Model name: mlflow_project, version 3\nCreated version '3' of model 'mlflow_project'.\n"
        },
        {
          "output_type": "execute_result",
          "execution_count": 12,
          "data": {
            "text/plain": "<ModelVersion: creation_timestamp=1641326903447, current_stage='None', description='', last_updated_timestamp=1641326903447, name='mlflow_project', run_id='explore_projects_1637621370_7e433735', run_link='', source='azureml://experiments/explore_projects/runs/explore_projects_1637621370_7e433735/artifacts/model', status='READY', status_message='', tags={}, user_id='', version='3'>"
          },
          "metadata": {}
        }
      ],
      "execution_count": 12,
      "metadata": {
        "jupyter": {
          "source_hidden": false,
          "outputs_hidden": false
        },
        "nteract": {
          "transient": {
            "deleting": false
          }
        },
        "gather": {
          "logged": 1641326903718
        }
      }
    }
  ],
  "metadata": {
    "kernelspec": {
      "name": "python38-azureml",
      "language": "python",
      "display_name": "Python 3.8 - AzureML"
    },
    "language_info": {
      "name": "python",
      "version": "3.8.1",
      "mimetype": "text/x-python",
      "codemirror_mode": {
        "name": "ipython",
        "version": 3
      },
      "pygments_lexer": "ipython3",
      "nbconvert_exporter": "python",
      "file_extension": ".py"
    },
    "kernel_info": {
      "name": "python38-azureml"
    },
    "microsoft": {
      "host": {
        "AzureML": {
          "notebookHasBeenCompleted": true
        }
      }
    },
    "nteract": {
      "version": "nteract-front-end@1.0.0"
    }
  },
  "nbformat": 4,
  "nbformat_minor": 0
}